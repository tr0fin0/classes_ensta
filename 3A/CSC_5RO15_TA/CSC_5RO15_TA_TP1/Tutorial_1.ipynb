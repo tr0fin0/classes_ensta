{
 "cells": [
  {
   "cell_type": "markdown",
   "metadata": {},
   "source": [
    "# CSC_5RO15_TA_TP1: Direct and Inverse Kinematics"
   ]
  },
  {
   "cell_type": "markdown",
   "metadata": {},
   "source": [
    "## Introduction"
   ]
  },
  {
   "cell_type": "markdown",
   "metadata": {
    "raw_mimetype": "text/latex"
   },
   "source": [
    "We propose to study the __geometric__ and __kinematic__ modeling of a manipulator arm developed by the *Interactive Robotics Laboratory* of the *CEA List*.\n",
    "\n",
    "This robot, which kinematic chain is of serial type, has $6$ revolute joints ($j_i$ with $i=1,\\ldots,6$).\n",
    "\n",
    "<img \n",
    "\tstyle=\"display: block; \n",
    "\t\tmargin-left: auto;\n",
    "\t\tmargin-right: auto;\"\n",
    "\tsrc=\"Images/VueRobot.png\"\n",
    "\twidth=\"400\">\n",
    "</img>\n",
    "\n",
    "The numerical values of the robot parameters, required for the completion of this tutorial, are specified in the following table.\n",
    "\n",
    "$$\n",
    "\\begin{aligned}\n",
    "& \\text {Table. Numerical values of the robot parameters.}\\\\\n",
    "\t&\\begin{array}{cccc}\n",
    "\t\\hline\n",
    "\t\t\\text{Parameters} &\t\\text{Numerical values} &\t\\text{Type of parameter} \\\\ \n",
    "\t\t\\hline\n",
    "\t\td_3 & 0.7 m & \\text{Geometric parameter} \\\\\n",
    "\t\tr_1 & 0.5 m & \\text{Geometric parameter} \\\\\n",
    "\t\tr_4 & 0.2 m & \\text{Geometric parameter} \\\\\n",
    "\t\tr_E & 0.1 m & \\text{Geometric parameter} \\\\\n",
    "\t\\hline\n",
    "\t\\end{array}\n",
    "\\end{aligned}\n",
    "$$\n",
    "\n",
    "The use of *Python* is required to perform the tutorial. Please import the following required mathematical libraires to start the tutorial."
   ]
  },
  {
   "cell_type": "code",
   "execution_count": 1,
   "metadata": {},
   "outputs": [],
   "source": [
    "from numpy.linalg import eig\n",
    "\n",
    "import functools as fu\n",
    "import math as m\n",
    "import matplotlib.pyplot as plt\n",
    "import numpy as np\n",
    "import random"
   ]
  },
  {
   "cell_type": "markdown",
   "metadata": {},
   "source": [
    "In the following, you will progressively update a *Dictionnary* in Python containing the robot parameters, named __robotParameters__.\n",
    "\n",
    "Please initialize it as follows: \n",
    "*robotParameters = { 'nJoints': 6, 'jointsType': ['R','R','R','R','R','R']}*"
   ]
  },
  {
   "cell_type": "code",
   "execution_count": 2,
   "metadata": {},
   "outputs": [],
   "source": [
    "robotParameters = { 'nJoints': 6, 'jointsType': ['R','R','R','R','R','R']}"
   ]
  },
  {
   "cell_type": "markdown",
   "metadata": {},
   "source": [
    "You will also progressively build a *Class* containing some *attributes* related to the robot. To do so, you will be asked to program some of its *methods* in the tutorial. This class is named __RobotModel__ and is defined in the file *ClassRobotModel*.\n",
    "\n",
    "Please initialize it as follows. You will see printing the resulting *attributes* of the *Class* __RobotModel__."
   ]
  },
  {
   "cell_type": "code",
   "execution_count": 3,
   "metadata": {},
   "outputs": [
    {
     "name": "stdout",
     "output_type": "stream",
     "text": [
      "Attribute (int): self.numberJoints =  6\n",
      "Attribute (list): self.jointsType =  ['R', 'R', 'R', 'R', 'R', 'R']\n",
      "Attribute (list - 0 if self.jointsType[i] == 'R' / 1 if self.jointsType[i] == 'P'): self.sigma =  [0, 0, 0, 0, 0, 0]\n"
     ]
    }
   ],
   "source": [
    "from ClassRobotModel import RobotModel\n",
    "RobotTutorials = RobotModel( **robotParameters )"
   ]
  },
  {
   "cell_type": "markdown",
   "metadata": {},
   "source": [
    "## DGM, Direct Geometric Model"
   ]
  },
  {
   "cell_type": "markdown",
   "metadata": {},
   "source": [
    "### Q1"
   ]
  },
  {
   "cell_type": "markdown",
   "metadata": {},
   "source": [
    "Fill in the following figure giving the frames attached to the successive links of the robot according to the *Modified Denavit-Hartenberg (MDH)* parameters defining the spatial arrangement of the robot structure (axis names and geometric distances should be reported on the completed figure).\n",
    "\n",
    "<img\n",
    "    style=  \"display: block;\n",
    "            margin-left: auto;\n",
    "            margin-right: auto;\"\n",
    "    src=\"Images/ParametresDH.png\"\n",
    "    width=\"600\">\n",
    "</img>"
   ]
  },
  {
   "cell_type": "markdown",
   "metadata": {},
   "source": [
    "From pages 93 and 94 of the Interactive Robotic Systems book the references according to the *Modified Denavit-Hartenberg (MDH)* are presented below:\n",
    "\n",
    "<img\n",
    "    style=  \"display: block;\n",
    "            margin-left: auto;\n",
    "            margin-right: auto;\"\n",
    "    src=\"Images/ParametresDH_updated.png\"\n",
    "    width=\"600\">\n",
    "</img>"
   ]
  },
  {
   "cell_type": "markdown",
   "metadata": {},
   "source": [
    "### Q2."
   ]
  },
  {
   "cell_type": "markdown",
   "metadata": {},
   "source": [
    "To fill the following table with the geometric parameters of the robot:\n",
    "\n",
    "$$\n",
    "\\begin{array}{ccccc}\n",
    "\t\t\\hline\n",
    "\t\t\\hline\n",
    "\t\t i  & \\alpha_i & d_i & \\theta_i & r_i \\\\\n",
    "\t\t\\hline\n",
    "\t\t\\hline\n",
    "\t\t1  & ? & ? & ? & ? \\\\\n",
    "\t\t\\hline\n",
    "\t\t2  & ? & ? & ? & ? \\\\\n",
    "\t\t\\hline\n",
    "\t\t3  & ? & ? & ? & ? \\\\\n",
    "\t\t\\hline\n",
    "\t\t4  & ? & ? & ? & ? \\\\\n",
    "\t\t\\hline\n",
    "\t\t5  & ? & ? & ? & ? \\\\\n",
    "\t\t\\hline\n",
    "\t\t6  & ? & ? & ? & ? \\\\\n",
    "\t\t\\hline\n",
    "\t\t\\hline\n",
    "\\end{array}\n",
    "$$\n",
    "\n",
    "please complete the file named *DHM_parameters.txt* in the current repository."
   ]
  },
  {
   "cell_type": "markdown",
   "metadata": {},
   "source": [
    "From page 95 the Interactive Robotic Systems book the geometric parameters of the robot are presented below\n",
    "\n",
    "$$\n",
    "\\begin{array}{ccccc}\n",
    "\t\t\\hline\n",
    "\t\t\\hline\n",
    "\t\t i  & \\alpha_i & d_i & \\theta_i & r_i \\\\\n",
    "\t\t\\hline\n",
    "\t\t\\hline\n",
    "\t\t1  & 0 & 0 & 0 & 0.5 \\\\\n",
    "\t\t\\hline\n",
    "\t\t2  & +\\pi/2 & 0 & 0 & 0 \\\\\n",
    "\t\t\\hline\n",
    "\t\t3  & 0 & 0.7 & +\\pi/2 & 0 \\\\\n",
    "\t\t\\hline\n",
    "\t\t4  & +\\pi/2 & 0 & 0 & 0.2 \\\\\n",
    "\t\t\\hline\n",
    "\t\t5  & -\\pi/2 & 0 & 0 & 0 \\\\\n",
    "\t\t\\hline\n",
    "\t\t6  & +\\pi/2 & 0 & 0 & 0 \\\\\n",
    "\t\t\\hline\n",
    "\t\t\\hline\n",
    "\\end{array}\n",
    "$$"
   ]
  },
  {
   "cell_type": "markdown",
   "metadata": {},
   "source": [
    "Then, update the dictionnary __robotParameters__ with the DHM parameters as follows: \n",
    "\n",
    "*robotParameters['fileDHM'] = \"DHM_parameters.txt\"*\n",
    "\n",
    "*RobotTutorials = ClassRobotModel.RobotModel( **robotParameters )*\n",
    "\n",
    "Look at the resulting *attribute* named *\"self.tableDHM\"*"
   ]
  },
  {
   "cell_type": "code",
   "execution_count": 4,
   "metadata": {},
   "outputs": [
    {
     "name": "stdout",
     "output_type": "stream",
     "text": [
      "Attribute (int): self.numberJoints =  6\n",
      "Attribute (list): self.jointsType =  ['R', 'R', 'R', 'R', 'R', 'R']\n",
      "Attribute (list - 0 if self.jointsType[i] == 'R' / 1 if self.jointsType[i] == 'P'): self.sigma =  [0, 0, 0, 0, 0, 0]\n",
      "Attribute (list - float): self.tableDHM =  [[1.0, 0.0, 0.0, 0.0, 0.5], [2.0, 1.5707963267948966, 0.0, 0.0, 0.0], [3.0, 0.0, 0.7, 1.5707963267948966, 0.0], [4.0, 1.5707963267948966, 0.0, 0.0, 0.2], [5.0, -1.5707963267948966, 0.0, 0.0, 0.0], [6.0, 1.5707963267948966, 0.0, 0.0, 0.0]]\n"
     ]
    }
   ],
   "source": [
    "robotParameters['fileDHM'] = \"DHM_parameters.txt\"\n",
    "RobotTutorials = RobotModel( **robotParameters )"
   ]
  },
  {
   "cell_type": "markdown",
   "metadata": {},
   "source": [
    "### Q3."
   ]
  },
  {
   "cell_type": "markdown",
   "metadata": {},
   "source": [
    "#### Q3a."
   ]
  },
  {
   "cell_type": "markdown",
   "metadata": {},
   "source": [
    "Write a generic function $TransformMatElem(\\alpha_i, d_i, \\theta_i, r_i)$ which output argument is the homogeneous transform matrix *g* between two successive frames."
   ]
  },
  {
   "cell_type": "code",
   "execution_count": 5,
   "metadata": {},
   "outputs": [],
   "source": [
    "@staticmethod\n",
    "def TransformMatElem(alpha_i, d_i, theta_i, r_i):\n",
    "    \"\"\" \n",
    "    Computation of the homogeneous transform matrix between two successive frames R_(i-1) and R_i\n",
    "    \n",
    "    Input: \n",
    "        - Four scalar parameters given by the Modified Denavit-Hartenberg (MDH) convention\n",
    "         \n",
    "    Output: \n",
    "        - Homogeneous transform matrix g_(i-1,i) as a \"np.array\"\n",
    "    \"\"\"\n",
    "    \n",
    "    x = np.array([\n",
    "            [+np.cos(theta_i), -np.sin(theta_i), 0.0, d_i],\n",
    "            [+np.cos(alpha_i)*np.sin(theta_i), +np.cos(alpha_i)*np.cos(theta_i), -np.sin(alpha_i), -r_i*np.sin(alpha_i)],\n",
    "            [+np.sin(alpha_i)*np.sin(theta_i), +np.sin(alpha_i)*np.cos(theta_i), +np.cos(alpha_i), +r_i*np.cos(alpha_i)],\n",
    "            [0.0, 0.0, 0.0, 1.0],\n",
    "        ]\n",
    "    )\n",
    "\n",
    "    return x\n",
    "\n",
    "RobotModel.TransformMatElem = TransformMatElem"
   ]
  },
  {
   "cell_type": "markdown",
   "metadata": {},
   "source": [
    "From page 96 of the Interactive Robotic Systems book the function above was implemented."
   ]
  },
  {
   "cell_type": "markdown",
   "metadata": {},
   "source": [
    "#### Q3b."
   ]
  },
  {
   "cell_type": "markdown",
   "metadata": {},
   "source": [
    "Write a function $ComputeDGM(\\text{self}, q)$ which computes the direct geometric model of any robot with series open kinematic chain, taking as input arguments the current configuration."
   ]
  },
  {
   "cell_type": "code",
   "execution_count": 6,
   "metadata": {},
   "outputs": [],
   "source": [
    "def ComputeDGM(self, q_cur):\n",
    "   \"\"\"\n",
    "   Computation of the Direct Geometric Model (DGM) of the robot given by its MDH parameters for the joint configuration q_cur\n",
    "   \n",
    "   Inputs: \n",
    "      - List of robot's geometric parameters \"self.tableDHM\" given by the Modified Denavit-Hartenberg (MDH) convention\n",
    "      - Number of joints of the robot \"self.numberJoints\"\n",
    "      - List of type of joints of the robot: \"self.sigma\"\n",
    "      - Current joint configuration \"q_cur\"\n",
    "      \n",
    "   Outputs: \n",
    "      - List of the successive homogeneous transform matrices: \"self.list_g_i_1_i = [g_01, ..., g_N_1_N]\"\n",
    "      - List of the successive resulting homogeneous transform matrices: \"self.list_g_0i = [g_01, g_02, ..., g_ON]\"\n",
    "   \"\"\"\n",
    "\n",
    "   self.list_g_i_1_i = []\n",
    "\n",
    "\n",
    "   for i, alpha, d, theta, r in self.tableDHM:\n",
    "      self.list_g_i_1_i.append(self.TransformMatElem(alpha, d, theta + q_cur[int(i)-1], r))\n",
    "\n",
    "\n",
    "   self.list_g_0i = [self.list_g_i_1_i[0]]\n",
    "\n",
    "   for g_i in self.list_g_i_1_i[1:]:\n",
    "      self.list_g_0i.append(self.list_g_0i[-1] @ g_i)\n",
    "\n",
    "RobotModel.ComputeDGM = ComputeDGM"
   ]
  },
  {
   "cell_type": "markdown",
   "metadata": {},
   "source": [
    "From page 97 of the Interactive Robotic Systems book the function above was implemented."
   ]
  },
  {
   "cell_type": "markdown",
   "metadata": {},
   "source": [
    "#### Q3c."
   ]
  },
  {
   "cell_type": "markdown",
   "metadata": {},
   "source": [
    "We consider an end-effector mounted at the end of the robot arm. The frame $\\mathcal{R}_E$ attached to the end-effector of the robot is defined by a translation of the frame  $\\mathcal{R}_6$ by a distance $r_E$ along the $z_6$ axis.\n",
    "\n",
    "Specify the four DHM parameters for the tool frame description in the field below.\n"
   ]
  },
  {
   "cell_type": "code",
   "execution_count": 7,
   "metadata": {},
   "outputs": [
    {
     "name": "stdout",
     "output_type": "stream",
     "text": [
      "Attribute (int): self.numberJoints =  6\n",
      "Attribute (list): self.jointsType =  ['R', 'R', 'R', 'R', 'R', 'R']\n",
      "Attribute (list - 0 if self.jointsType[i] == 'R' / 1 if self.jointsType[i] == 'P'): self.sigma =  [0, 0, 0, 0, 0, 0]\n",
      "Attribute (list - float): self.tableDHM =  [[1.0, 0.0, 0.0, 0.0, 0.5], [2.0, 1.5707963267948966, 0.0, 0.0, 0.0], [3.0, 0.0, 0.7, 1.5707963267948966, 0.0], [4.0, 1.5707963267948966, 0.0, 0.0, 0.2], [5.0, -1.5707963267948966, 0.0, 0.0, 0.0], [6.0, 1.5707963267948966, 0.0, 0.0, 0.0]]\n",
      "Attribute (list - float): self.toolDHM =  [0, 0, 0, 0.1]\n"
     ]
    }
   ],
   "source": [
    "robotParameters['toolFrameDHM'] = [ 0, 0, 0, 0.1 ]\n",
    "RobotTutorials = RobotModel( **robotParameters )"
   ]
  },
  {
   "cell_type": "markdown",
   "metadata": {},
   "source": [
    "Using the results of previous questions, write a function $ComputeToolPose(\\text{self})$  that computes the homogeneous transform matrix $\\overline{g}_{0E}$. This matrix gives the position and the orientation of the frame $\\mathcal{R}_E$ attached to the end-effector of the robot, expressed in the base frame $\\mathcal{R}_0$."
   ]
  },
  {
   "cell_type": "code",
   "execution_count": 8,
   "metadata": {},
   "outputs": [],
   "source": [
    "def ComputeToolPose(self):\n",
    "   \"\"\" \n",
    "   Computation of the homogeneous transform matrix g0E which gives the position and the orientation of the frame R_E attached to the end-effector of the robot, expressed in the base frame R_0 evaluated at the joint configuration q_cur\n",
    "\n",
    "   Inputs:\n",
    "      - List of the successive homogeneous transform matrices \"self.list_g_0i\"\n",
    "      - Number of joints of the robot \"self.numberJoints\"\n",
    "      - List of the geometric parameters of the tool \"self.toolDHM\" given by the Modified Denavit-Hartenberg (MDH) convention\n",
    "\n",
    "   Output:\n",
    "      - Homogeneous transform matrix \"self.g_0E\"\n",
    "   \"\"\"\n",
    "\n",
    "   self.g_0E = self.list_g_0i[-1] @ self.TransformMatElem(self.toolDHM[0], self.toolDHM[1], self.toolDHM[2], self.toolDHM[3])\n",
    "\n",
    "RobotModel.ComputeToolPose = ComputeToolPose"
   ]
  },
  {
   "cell_type": "markdown",
   "metadata": {},
   "source": [
    "From page 97 of the Interactive Robotic Systems book the function above was implemented."
   ]
  },
  {
   "cell_type": "markdown",
   "metadata": {},
   "source": [
    "In the following, we consider two joint configurations $q=\\left[q_1, \\ldots, q_6\\right]^t$ of the robot: $q_i=\\left[-\\frac{\\pi}{2}, 0 , -\\frac{\\pi}{2} , -\\frac{\\pi}{2} , -\\frac{\\pi}{2} , -\\frac{\\pi}{2} \\right]^t$ and $q_f=\\left[0, \\frac{\\pi}{4}  , 0 , \\frac{\\pi}{2} , \\frac{\\pi}{2} , 0\\right]^t$.\n",
    "\n",
    "Indicate what are the homogeneous transform matrices $\\overline{g}_{0E}$ evaluated in these two confugrations."
   ]
  },
  {
   "cell_type": "code",
   "execution_count": 13,
   "metadata": {},
   "outputs": [],
   "source": [
    "q_i = [-np.pi/2, 0, -np.pi/2, -np.pi/2, -np.pi/2, -np.pi/2]\n",
    "q_f = [0, np.pi/4, 0, np.pi/2, np.pi/2, 0]"
   ]
  },
  {
   "cell_type": "code",
   "execution_count": 14,
   "metadata": {},
   "outputs": [
    {
     "name": "stdout",
     "output_type": "stream",
     "text": [
      "[[-6.12323400e-17 -6.12323400e-17 -1.00000000e+00 -1.00000000e-01]\n",
      " [ 1.00000000e+00 -1.23259516e-32 -6.12323400e-17 -7.00000000e-01]\n",
      " [-1.23259516e-32 -1.00000000e+00  6.12323400e-17  3.00000000e-01]\n",
      " [ 0.00000000e+00  0.00000000e+00  0.00000000e+00  1.00000000e+00]]\n",
      "\n",
      "[[-7.07106781e-01  7.07106781e-01  3.01573569e-33  6.36396103e-01]\n",
      " [-4.32978028e-17 -4.32978028e-17 -1.00000000e+00 -1.00000000e-01]\n",
      " [-7.07106781e-01 -7.07106781e-01  6.12323400e-17  1.13639610e+00]\n",
      " [ 0.00000000e+00  0.00000000e+00  0.00000000e+00  1.00000000e+00]]\n"
     ]
    }
   ],
   "source": [
    "RobotTutorials.ComputeDGM(q_i)\n",
    "RobotTutorials.ComputeToolPose()\n",
    "print(RobotTutorials.g_0E)\n",
    "\n",
    "print()\n",
    "\n",
    "RobotTutorials.ComputeDGM(q_f)\n",
    "RobotTutorials.ComputeToolPose()\n",
    "print(RobotTutorials.g_0E)"
   ]
  },
  {
   "cell_type": "markdown",
   "metadata": {},
   "source": [
    "### Q4."
   ]
  },
  {
   "cell_type": "markdown",
   "metadata": {},
   "source": [
    "What are the values of positions $P_x, P_y, P_z$ and the parameters related to the orientation $R_{n,q}$ ($n$ being the direction vector and $q \\in \\left[0,\\pi\\right]$ the rotation angle such that $R_{n,q}=R_{0E}$) of the end-effector frame for the two joint configurations $q_i=\\left[-\\frac{\\pi}{2}, 0 , -\\frac{\\pi}{2} , -\\frac{\\pi}{2} , -\\frac{\\pi}{2} , -\\frac{\\pi}{2} \\right]^t$ and $q_f=\\left[0, \\frac{\\pi}{4}  , 0 , \\frac{\\pi}{2} , \\frac{\\pi}{2} , 0\\right]^t$ ($q=\\left[q_1, \\ldots, q_6\\right]^t$)?\n",
    "To do so, write a function $DescribeToolFrame(\\text{self})$ that computes the position vector and the parameters related to the orientation of the end-effector frame for the current configuration."
   ]
  },
  {
   "cell_type": "code",
   "execution_count": null,
   "metadata": {},
   "outputs": [],
   "source": [
    "def DescribeToolFrame(self):\n",
    "        \"\"\"\n",
    "        Computation of the position vector and the parameters related to the orientation R_n,q of the end-effector frame for the configuration q as specified in the constructor function\n",
    "\n",
    "        Input: \n",
    "                - Direct Geometric Model (DGM) of the robot including its end-effector through \"self.g_0E\"\n",
    "\n",
    "        Outputs: \n",
    "                - Values of positions P=[Px, Py, Pz]' (in m) of the origin of frame R_E w.r.t. R_0 given in R_0: \"self.P\"\n",
    "                - Orientation parameters R_n,q, as follows:\n",
    "                        - \"self.n\": being the direction vector\n",
    "                        - \"self.q\" in [0,pi] the rotation angle in rad such that R_n,q = R_0E\n",
    "        \"\"\"\n",
    "\n",
    "        R = self.g_0E[0:3,0:3] # rotation matrix\n",
    "        r11, r12, r13 = R[0]\n",
    "        r21, r22, r23 = R[1]\n",
    "        r31, r32, r33 = R[2]\n",
    "\n",
    "        # book notation\n",
    "        theta = np.atan2(1/2 * np.sqrt( (r32 - r23)**2 + (r13 - r31)**2 + (r21 - r12)**2 ), 1/2 * (r11 + r22 + r33 - 1))\n",
    "\n",
    "        if theta != 0:\n",
    "                w = [(r32 - r23)/(2 * theta), (r13 - r31)/(2 * theta), (r21 - r12)/(2 * theta)]\n",
    "        else:\n",
    "                w = [0, 0, 0]\n",
    "\n",
    "        # Position vector\n",
    "        P = self.g_0E[0:3, 3]\n",
    "\n",
    "        self.P = P\n",
    "        self.n = w\n",
    "        self.q = theta\n",
    "\n",
    "\n",
    "RobotModel.DescribeToolFrame = DescribeToolFrame"
   ]
  },
  {
   "cell_type": "code",
   "execution_count": 17,
   "metadata": {},
   "outputs": [
    {
     "name": "stdout",
     "output_type": "stream",
     "text": [
      "[-0.1 -0.7  0.3] [np.float64(-0.23873241463784295), np.float64(-0.23873241463784298), np.float64(0.23873241463784298)] 2.0943951023931957\n",
      "\n",
      "[ 0.6363961 -0.1        1.1363961] [np.float64(0.05646538721156071), np.float64(0.1363195036107982), np.float64(-0.1363195036107982)] 2.5935642459694805\n"
     ]
    }
   ],
   "source": [
    "RobotTutorials.ComputeDGM(q_i)\n",
    "RobotTutorials.ComputeToolPose()\n",
    "RobotTutorials.DescribeToolFrame()\n",
    "print(RobotTutorials.P, RobotTutorials.n, RobotTutorials.q)\n",
    "\n",
    "print()\n",
    "\n",
    "RobotTutorials.ComputeDGM(q_f)\n",
    "RobotTutorials.ComputeToolPose()\n",
    "RobotTutorials.DescribeToolFrame()\n",
    "print(RobotTutorials.P, RobotTutorials.n, RobotTutorials.q)"
   ]
  },
  {
   "cell_type": "markdown",
   "metadata": {},
   "source": [
    "From pages 60 and 61 of the Interactive Robotic Systems book the function above was implemented."
   ]
  },
  {
   "cell_type": "markdown",
   "metadata": {},
   "source": [
    "## DKM, Direct Kinematic Model"
   ]
  },
  {
   "cell_type": "markdown",
   "metadata": {},
   "source": [
    "### Q5."
   ]
  },
  {
   "cell_type": "markdown",
   "metadata": {},
   "source": [
    "Write a function $ComputeJac\\left(self, q\\right)$ which output is the Jacobian matrix ${}^0J(q)$ (computed by the method of velocities composition).\n",
    "\n",
    "Reminder: the Jacobian matrix relates the velocities in the task coordinates of the end-effector frame in $\\mathcal{R}_0$, for a given joint configuration $q$, to the joint velocities:\n",
    "\\begin{align*}\n",
    "{}^0\\mathcal{V}_{0,E}&= \\begin{bmatrix}^0V_{0,E}\\left(O_E\\right) \\\\ ^0\\omega_{0,E} \\end{bmatrix} = \\begin{bmatrix} {}^0J_v \\left(q\\right)  \\\\ {}^0J_{\\omega} \\left(q\\right)\\end{bmatrix} \\dot{q} = {}^0J\\left(q\\right) \\dot{q}\n",
    "\\end{align*}"
   ]
  },
  {
   "cell_type": "code",
   "execution_count": 27,
   "metadata": {},
   "outputs": [],
   "source": [
    "def ComputeJac(self, q_cur):\n",
    "   \"\"\" \n",
    "   Computation of the Jacobian matrix mapping the joint velocities to the velocities of the end-effector for a joint configuration \"q_cur\"\n",
    "\n",
    "   Inputs: \n",
    "      - List defining the types of joints : \"self.jointsType\" \n",
    "      - Number of joints of the robot: \"self.numberJoints\"\n",
    "      - Current configuration \"q_cur\"\n",
    "   \n",
    "   Output: \n",
    "      - Jacobian matrix 0_J in R_0: \"self.oJ\" as np.array\n",
    "   \"\"\"\n",
    "\n",
    "   self.ComputeDGM(q_cur)\n",
    "\n",
    "   self.oJ = np.zeros((6, self.numberJoints))\n",
    "\n",
    "   for i in range(self.numberJoints):\n",
    "      if self.jointsType[i] == 'R':\n",
    "         self.oJ[0:3, i] = np.cross(self.list_g_0i[-1][0:3, 2], self.list_g_0i[-1][0:3, 3] - self.list_g_0i[i][0:3, 3])\n",
    "         self.oJ[3:6, i] = self.list_g_0i[-1][0:3, 2]\n",
    "\n",
    "      elif self.jointsType[i] == 'P':\n",
    "         self.oJ[0:3, i] = self.list_g_0i[-1][0:3, 2]\n",
    "         self.oJ[3:6, i] = np.zeros(3)\n",
    "\n",
    "RobotModel.ComputeJac = ComputeJac"
   ]
  },
  {
   "cell_type": "markdown",
   "metadata": {},
   "source": [
    "What are the values of the twists at $O_E$ evaluated with $q=q_i$ and $q=q_f$ with the joint velocities $\\dot q = \\left[0.5, 1.0, -0.5, 0.5, 1.0, -0.5\\right]^t$?"
   ]
  },
  {
   "cell_type": "code",
   "execution_count": 28,
   "metadata": {},
   "outputs": [
    {
     "name": "stdout",
     "output_type": "stream",
     "text": [
      "[ 0.5  1.  -0.5  0.5  1.  -0.5]\n"
     ]
    }
   ],
   "source": [
    "q_dot = np.array(\n",
    "    [+0.5, +1.0, -0.5, +0.5, +1.0, -0.5]\n",
    ").T\n",
    "\n",
    "print(q_dot)"
   ]
  },
  {
   "cell_type": "code",
   "execution_count": 29,
   "metadata": {},
   "outputs": [
    {
     "name": "stdout",
     "output_type": "stream",
     "text": [
      "[ 7.65404249e-17 -2.00000000e-01  1.05000000e+00 -2.00000000e+00\n",
      " -1.22464680e-16  1.22464680e-16]\n",
      "\n",
      "[-8.83883476e-01  5.41222535e-17  8.83883476e-01  6.03147138e-33\n",
      " -2.00000000e+00  1.22464680e-16]\n"
     ]
    }
   ],
   "source": [
    "RobotTutorials.ComputeJac(q_i)\n",
    "print(RobotTutorials.oJ @ q_dot)\n",
    "\n",
    "print()\n",
    "\n",
    "RobotTutorials.ComputeJac(q_f)\n",
    "print(RobotTutorials.oJ @ q_dot)"
   ]
  },
  {
   "cell_type": "markdown",
   "metadata": {},
   "source": [
    "### Q6."
   ]
  },
  {
   "cell_type": "markdown",
   "metadata": {},
   "source": [
    "In the rest of the study, we restrict the analysis of operational end-effector velocities to translational velocities via ${}^0J_v \\left(q\\right)$.\n",
    "\n",
    "Qualify the transmission of velocities between the joint and task spaces for the corresponding $q_i$ and $q_f$ configurations: what is the preferred direction to transmit velocity in the task space when the manipulator configuration is $q_i$? Same question for $q_f$? What are the corresponding velocity manipulabilities? \n",
    "To help, you can program a function $QualifyVelocityTransmission(self)$ that analyses the property of the Jacobian matrix. Explain your results."
   ]
  },
  {
   "cell_type": "code",
   "execution_count": 34,
   "metadata": {},
   "outputs": [],
   "source": [
    "def QualifyVelocityTransmission(self):\n",
    "   \"\"\" \n",
    "   Qualifying the transmission of velocities\n",
    "\n",
    "   Input:\n",
    "      - Jacobian matrix \"self.oJ\" to be analysed\n",
    "   \n",
    "   Outputs:\n",
    "   \"\"\"\n",
    "\n",
    "   # Compute the singular values of the Jacobian matrix\n",
    "   s = np.linalg.svd(self.oJ, compute_uv=False)\n",
    "\n",
    "   # Compute the condition number\n",
    "\n",
    "   self.conditionNumber = np.max(s) / np.min(s) if np.min(s) > 1e-6 else np.inf\n",
    "\n",
    "   # Compute the rank of the Jacobian matrix\n",
    "   self.rank = np.linalg.matrix_rank(self.oJ)\n",
    "\n",
    "   # Compute the determinant of the Jacobian matrix\n",
    "   self.det = np.linalg.det(self.oJ)\n",
    "\n",
    "\n",
    "RobotModel.QualifyVelocityTransmission = QualifyVelocityTransmission"
   ]
  },
  {
   "cell_type": "code",
   "execution_count": 35,
   "metadata": {},
   "outputs": [
    {
     "name": "stdout",
     "output_type": "stream",
     "text": [
      "inf 3 0.0\n",
      "\n",
      "inf 2 0.0\n"
     ]
    }
   ],
   "source": [
    "RobotTutorials.ComputeJac(q_i)\n",
    "RobotTutorials.QualifyVelocityTransmission()\n",
    "print(RobotTutorials.conditionNumber, RobotTutorials.rank, RobotTutorials.det)\n",
    "\n",
    "print()\n",
    "\n",
    "RobotTutorials.ComputeJac(q_f)\n",
    "RobotTutorials.QualifyVelocityTransmission()\n",
    "print(RobotTutorials.conditionNumber, RobotTutorials.rank, RobotTutorials.det)"
   ]
  },
  {
   "cell_type": "markdown",
   "metadata": {},
   "source": [
    "## IGM, Inverse Geometric Model"
   ]
  },
  {
   "cell_type": "markdown",
   "metadata": {},
   "source": [
    "### Q7."
   ]
  },
  {
   "cell_type": "markdown",
   "metadata": {},
   "source": [
    "In this study, the resolution of the inverse geometric model is considered numerically by exploiting the inverse differential model. Moreover, the study is restricted to the position only of the robot's end-effector frame in the task space (no constraint on the orientation of the end-effector frame).\n",
    "\n",
    "Using an iterative procedure exploiting the pseudo-inverse of the Jacobian matrix, program a function $ComputeIGM(\\text{self}, X_d, q_0, k_{max}, \\epsilon_x)$ having as input arguments the desired task position $X_d$ and the initial condition $q_0$. Both the maximum number of iterations $k_{max}$ of the algorithm and the norm of the tolerated Cartesian error $|X_d - DGM(q_{k})|<\\epsilon_x$, define the stopping criteria of the algorithm."
   ]
  },
  {
   "cell_type": "code",
   "execution_count": 49,
   "metadata": {},
   "outputs": [],
   "source": [
    "def ComputeIGM(self, X_d, q_0, k_max, eps_x):\n",
    "         \"\"\"\n",
    "         Computation of the Inverse Geometric Model (IGM) mapping the Cartesian pose to the joint vector \"q\"\n",
    "\n",
    "         Inputs:\n",
    "            - Desired Cartesian vector \"X_d\" as a np.array to be reached by the robot \n",
    "            - Initial condition \"q_0\" as a np.array\n",
    "            - Number \"k_max\" of maximal iteration in the recursive algorithm \n",
    "            - Norm of the tolerated Cartesian error \"eps_x\"\n",
    "\n",
    "         Outputs:\n",
    "            - List \"self.list_q_IGM\" of the joint vectors computed at each iteration of the recursive algorithm \n",
    "            - Returned \"self.list_q_IGM[-1]\" of the final found joint vector, solution of the IGM\n",
    "            \n",
    "         \"\"\"\n",
    "\n",
    "         self.list_q_IGM = [q_0]\n",
    "         q_k = q_0\n",
    "\n",
    "         for _ in range(k_max):\n",
    "            self.ComputeDGM(q_k)\n",
    "            X_k = self.g_0E[0:3, 3]\n",
    "            epsilon_x = X_d - X_k\n",
    "\n",
    "            if np.linalg.norm(epsilon_x) < eps_x:\n",
    "               break\n",
    "\n",
    "            self.ComputeJac(q_k)\n",
    "            J_v = self.oJ[0:3, :]\n",
    "            q_k = q_k + np.linalg.pinv(J_v) @ epsilon_x\n",
    "            self.list_q_IGM.append(q_k)\n",
    "\n",
    "         return self.list_q_IGM[-1]\n",
    "\n",
    "RobotModel.ComputeIGM = ComputeIGM"
   ]
  },
  {
   "cell_type": "markdown",
   "metadata": {},
   "source": [
    "Compute $q^{\\ast}$ when the function is called with the following arguments:\n",
    "\n",
    "a) $X_d=X_{d_i}=\\left(-0.1, -0.7, 0.3\\right)^t$, $q_0=\\left[ -1.57, 0.00 , -1.47, -1.47, -1.47 \\right.$ $\\left., -1.47 \\right]$, $k_{max}=100$, $\\epsilon_x=1$mm?\n",
    "\n",
    "b) $X_d=X_{d_f}=\\left(0.64 , -0.10, 1.14\\right)^t$, $q_0=\\left[ 0 , 0.80 , 0.00 , 1.00 , 2.00 , 0.00 \\right]$, $k_{max}=100$, $\\epsilon_x=1$mm?\n",
    "\n",
    "Check the accuracy of the results using the function calculated in __Q3.__"
   ]
  },
  {
   "cell_type": "code",
   "execution_count": 50,
   "metadata": {},
   "outputs": [
    {
     "name": "stdout",
     "output_type": "stream",
     "text": [
      "[ 9.28104782e+02  9.29674782e+02  5.15922497e+03 -1.47000000e+00\n",
      " -1.47000000e+00 -1.47000000e+00]\n",
      "[0.  0.8 0.  1.  2.  0. ]\n"
     ]
    }
   ],
   "source": [
    "k_max = 100\n",
    "epsilon_x = 1\n",
    "\n",
    "X_di = np.array([-0.10, -0.70, +0.30]).T\n",
    "q_0i = np.array([-1.57, +0.00, -1.47, -1.47, -1.47, -1.47])\n",
    "\n",
    "X_df = np.array([+0.64, -0.10, +1.14]).T\n",
    "q_0f = np.array([+0.00, +0.80, +0.00, +1.00, +2.00, +0.00])\n",
    "\n",
    "print(RobotTutorials.ComputeIGM(X_di, q_0i, k_max, epsilon_x))\n",
    "print(RobotTutorials.ComputeIGM(X_df, q_0f, k_max, epsilon_x))"
   ]
  },
  {
   "cell_type": "markdown",
   "metadata": {},
   "source": [
    "$q_{k+1}$ = q_{k} + J^{#}(q) \\episilon_{x}\n",
    "\n",
    "J^{#} = np.linalg.pinv(J)\n",
    "\n",
    "\\episilon_{k} = x_{1} - x_{k} = MGD(q_{k})"
   ]
  },
  {
   "cell_type": "markdown",
   "metadata": {},
   "source": [
    "## IKM, Inverse Kinematic Model"
   ]
  },
  {
   "cell_type": "markdown",
   "metadata": {},
   "source": [
    "In this question, the trajectory of the end-effector to be followed in the task space must allow the desired final position $X_{d_f}$ to be reached by following a straight line in the task space starting at the initial position $X_{d_i}$. This rectilinear motion is carried out at a constant speed $V=1m.s^{-1}$ and is sampled at a period $T_e=1$ms. The position of the end effector at the time instant $kT_e$ is noted $X_{d_k}$. The initial configuration of the robot is given by $q_i$ (found in question __Q4.__)."
   ]
  },
  {
   "cell_type": "markdown",
   "metadata": {},
   "source": [
    "### Q8."
   ]
  },
  {
   "cell_type": "markdown",
   "metadata": {},
   "source": [
    "Using the inverse differential kinematic model, write a function entitled $ComputeIKM( \\text{self}, X_{d_i}, X_{d_f}, V, T_e, q_i)$ realizing the coordinate transform to provide the series of setpoint values $q_{d_k}$ corresponding to the $X_{d_k}$ to the joint drivers. To do this, after having programmed the time law corresponding to the required motion, you can use the function developed in question __Q7__ capable of calculating the iterative MGI from the pseudo-inverse of the Jacobian matrix."
   ]
  },
  {
   "cell_type": "code",
   "execution_count": 51,
   "metadata": {},
   "outputs": [],
   "source": [
    "def ComputeIKM(self, X_d_i, X_d_f, V, Te, q_i, k_max, eps_x):\n",
    "        \"\"\" \n",
    "        Computation of the Inverse differential Kinematic Model (IKM) making the coordinate transform to provide the series of setpoint values qdk corresponding to the Xdk to the joint drivers\n",
    "        \n",
    "        Inputs: \n",
    "           - Trajectory of the end effector to be followed in the task space between:\n",
    "               - the initial position \"X_d_i\"\n",
    "               - the desired final position \"X_d_f\" to be reached.\n",
    "           - Rectilinear motion carried out :\n",
    "               - at a constant speed \"V\"\n",
    "               - sampled at a period \"Te\"\n",
    "           - Initial configuration of the robot \"q_i\"\n",
    "           - Number \"k_max\" of maximal iteration in the recursive algorithm (to be used with \"self.ComputeIGM\")\n",
    "           - Norm of the tolerated Cartesian error \"eps_x\" (to be used with \"self.ComputeIGM\")\n",
    "           \n",
    "        Outputs: \n",
    "           - List \"self.discreteTime\" that defines the the sampled temporal series for each time step\n",
    "           - List \"self.list_X_d_k\" of the intermediate Cartesian poses to be reached by the robot\n",
    "           - List \"self.list_q_dk\" of the joint vectors computed at each iteration k of the recursive algorithm (series of setpoint values qdk corresponding to the Xdk to the joint drivers)\n",
    "        \"\"\"     \n",
    "        \n",
    "        \n",
    "\n",
    "RobotModel.ComputeIKM = ComputeIKM "
   ]
  },
  {
   "cell_type": "markdown",
   "metadata": {},
   "source": [
    "Check that the successively reached positions of the end-effector is following the desired trajectory. To do so, you can plot the error between the sequence of positions reached by the end device and the position set points at each time step."
   ]
  },
  {
   "cell_type": "markdown",
   "metadata": {},
   "source": [
    "### Q9."
   ]
  },
  {
   "cell_type": "markdown",
   "metadata": {},
   "source": [
    "Plot the temporal evolution of the joint variables $q_1$ to $q_6$ calculated in the previous question. For each joint variable, graphically overlay the allowable extreme values corresponding to the joint limits:\n",
    "\\begin{align*}\n",
    "q_{min} = \\left[\\begin{array}{c}{ -\\pi , -\\frac{\\pi}{2} , -\\pi , -\\pi , -\\frac{\\pi}{2}, -\\pi }\\end{array}\\right] \n",
    "\\end{align*}\n",
    "and\n",
    "\\begin{align*}\n",
    "q_{max} = \\left[\\begin{array}{c}{ 0 , \\frac{\\pi}{2} , 0  ,\\frac{\\pi}{2}, \\frac{\\pi}{2} , \\frac{\\pi}{2} }\\end{array}\\right] \n",
    "\\end{align*}"
   ]
  },
  {
   "cell_type": "markdown",
   "metadata": {},
   "source": [
    "Comment on the evolution of the joint variables obtained previously."
   ]
  },
  {
   "cell_type": "markdown",
   "metadata": {},
   "source": [
    "### Q10."
   ]
  },
  {
   "cell_type": "markdown",
   "metadata": {},
   "source": [
    "In this question, we modify the algorithm developed in question __Q8__. We wish to take into account the distance of the values taken by the joint variables from their limits in the computation of the inverse kinematic model.\n",
    "\n",
    "To do so, you will need to consider a secondary task aiming at keeping some distance from the articular stops $q_{min}$ and $q_{max}$. By the technique of the gradient projected into the null space of ${}^0J_v \\left(q\\right)$, you will consider minimizing the following potential function:\n",
    "\\begin{align*}\n",
    "\t\t\tH_{lim}\\left(q\\right) = \\sum_{i=1}^{n} \\left(\\frac{q_i-\\overline{q}_{i}}{q_{max}-q_{min}}\\right)^2 \\hspace{0.2cm} \\text{where} \\hspace{0.2cm} \\overline{q}_{i} =  \\frac{q_{max}+q_{min}}{2} \n",
    "\\end{align*}\n",
    "\n",
    "First, provide below the theoretical analytical solution for the joint variables to this problem."
   ]
  },
  {
   "cell_type": "markdown",
   "metadata": {},
   "source": [
    "Then, develop a new function $ComputeIKMlimits(\\text{self}, X_{d_i}, X_{d_f}, V, T_e, q_i, q_{min}, q_{max})$ which implements the inverse kinematic model able to take into account the previous secondary task."
   ]
  },
  {
   "cell_type": "code",
   "execution_count": null,
   "metadata": {},
   "outputs": [],
   "source": [
    "def ComputeIKMlimits(self, X_d_i, X_d_f, V, Te, q_i, k_max, eps_x, q_min, q_max):    \n",
    "        \"\"\" \n",
    "        Computation of the Inverse differential Kinematic Model (IKM) making the coordinate transform to provide the series of setpoint values qdk corresponding to the Xdk to the joint drivers while taking into account the joint limits\n",
    "        \n",
    "        Inputs: \n",
    "           - Trajectory of the end effector to be followed in the task space between:\n",
    "               - the initial position \"X_d_i\"\n",
    "               - the desired final position \"X_d_f\" to be reached.\n",
    "           - Rectilinear motion carried out :\n",
    "               - at a constant speed \"V\"\n",
    "               - sampled at a period \"Te\"\n",
    "           - Initial configuration of the robot \"q_i\"\n",
    "           - Number \"k_max\" of maximal iteration in the recursive algorithm (to be used with \"self.ComputeIGM\")\n",
    "           - Norm of the tolerated Cartesian error \"eps_x\" (to be used with \"self.ComputeIGM\")\n",
    "           - Vector of lower bound of joint variable \"q_min\"\n",
    "           - Vector of upper bound of joint variable \"q_max\"\n",
    "           \n",
    "        Outputs: \n",
    "           - List \"self.list_q_dk_limits\" of the joint vectors computed at each iteration k of the recursive algorithm (series of setpoint values qdk corresponding to the Xdk to the joint drivers)\n",
    "           - List \"self.list_X_d_k\" of the intermediate Cartesian poses to be reached by the robot    \n",
    "        \"\"\"     \n",
    "        \n",
    "        \n",
    "        \n",
    "            \n",
    "RobotModel.ComputeIKMlimits = ComputeIKMlimits"
   ]
  },
  {
   "cell_type": "markdown",
   "metadata": {},
   "source": [
    "Plot the new temporal evolution of the joint variables $q_1$ to $q_6$ for the reference trajectory given in the question __Q9__."
   ]
  },
  {
   "cell_type": "code",
   "execution_count": null,
   "metadata": {},
   "outputs": [],
   "source": []
  },
  {
   "cell_type": "markdown",
   "metadata": {},
   "source": [
    "Comment on the values taken by the joint variables."
   ]
  },
  {
   "cell_type": "code",
   "execution_count": null,
   "metadata": {},
   "outputs": [],
   "source": []
  }
 ],
 "metadata": {
  "celltoolbar": "Format de la Cellule Texte Brut",
  "kernelspec": {
   "display_name": "Python 3",
   "language": "python",
   "name": "python3"
  },
  "language_info": {
   "codemirror_mode": {
    "name": "ipython",
    "version": 3
   },
   "file_extension": ".py",
   "mimetype": "text/x-python",
   "name": "python",
   "nbconvert_exporter": "python",
   "pygments_lexer": "ipython3",
   "version": "3.10.12"
  }
 },
 "nbformat": 4,
 "nbformat_minor": 2
}
