{
 "cells": [
  {
   "cell_type": "markdown",
   "metadata": {},
   "source": [
    "# ROBOTICS - Tutorial 1 : Direct and inverse kinematics\n",
    "\n"
   ]
  },
  {
   "cell_type": "markdown",
   "metadata": {},
   "source": [
    "## Introduction"
   ]
  },
  {
   "cell_type": "markdown",
   "metadata": {
    "raw_mimetype": "text/latex"
   },
   "source": [
    "We propose to study the __geometric__ and __kinematic__ modeling of a manipulator arm developed by the *Interactive Robotics Laboratory* of the *CEA List*. This robot, which kinematic chain is of serial type, has $6$ revolute joints ($j_i$ with $i=1,\\ldots,6$).\n",
    "\n",
    "\n",
    "<img src=\"Images/VueRobot.png\" width=\"400\">\n",
    "\n",
    "\n",
    "The numerical values of the robot parameters, required for the completion of this tutorial, are specified in the following table.\n",
    "\n",
    "$$\n",
    "\\begin{aligned}\n",
    "& \\text {Table. Numerical values of the robot parameters.}\\\\\n",
    "&\\begin{array}{cccc}\n",
    "\\hline\n",
    "\t\t\\text{Parameters} &\t\\text{Numerical values} &\t\\text{Type of parameter} \\\\ \n",
    "\t\t\\hline\n",
    "\t\td_3 & 0.7 m & \\text{Geometric parameter} \\\\\n",
    "\t\tr_1 & 0.5 m & \\text{Geometric parameter} \\\\\n",
    "\t\tr_4 & 0.2 m & \\text{Geometric parameter} \\\\\n",
    "        r_E & 0.1 m & \\text{Geometric parameter} \\\\\n",
    "\\hline\n",
    "\\end{array}\n",
    "\\end{aligned}\n",
    "$$\n",
    "\n",
    "The use of *Python* is required to perform the tutorial. Please import the following required mathematical libraires to start the tutorial."
   ]
  },
  {
   "cell_type": "code",
   "execution_count": null,
   "metadata": {},
   "outputs": [],
   "source": [
    "import numpy as np\n",
    "import math as m\n",
    "import functools as fu\n",
    "from numpy.linalg import eig\n",
    "import matplotlib.pyplot as plt\n",
    "import random"
   ]
  },
  {
   "cell_type": "markdown",
   "metadata": {},
   "source": [
    "In the following, you will progressively update a *Dictionnary* in Python containing the robot parameters, named __robotParameters__.\n",
    "\n",
    "Please initialize it as follows: \n",
    "*robotParameters = { 'nJoints': 6, 'jointsType': ['R','R','R','R','R','R']}*"
   ]
  },
  {
   "cell_type": "code",
   "execution_count": null,
   "metadata": {},
   "outputs": [],
   "source": [
    "robotParameters = { 'nJoints': 6, 'jointsType': ['R','R','R','R','R','R']}"
   ]
  },
  {
   "cell_type": "markdown",
   "metadata": {},
   "source": [
    "You will also progressively build a *Class* containing some *attributes* related to the robot. To do so, you will be asked to program some of its *methods* in the tutorial. This class is named __RobotModel__ and is defined in the file *ClassRobotModel*.\n",
    "\n",
    "Please initialize it as follows. You will see printing the resulting *attributes* of the *Class* __RobotModel__."
   ]
  },
  {
   "cell_type": "code",
   "execution_count": null,
   "metadata": {},
   "outputs": [],
   "source": [
    "from ClassRobotModel import RobotModel\n",
    "RobotTutorials = RobotModel( **robotParameters )"
   ]
  },
  {
   "cell_type": "markdown",
   "metadata": {},
   "source": [
    "## Direct geometric model"
   ]
  },
  {
   "cell_type": "markdown",
   "metadata": {},
   "source": [
    "__Q1.__ Fill in the following figure giving the frames attached to the successive links of the robot according to the *Modified Denavit-Hartenberg (MDH)* parameters defining the spatial arrangement of the robot structure (axis names and geometric distances should be reported on the completed figure).\n",
    "\n",
    "<img src=\"Images/ParametresDH.png\" width=\"600\">"
   ]
  },
  {
   "cell_type": "code",
   "execution_count": null,
   "metadata": {},
   "outputs": [],
   "source": []
  },
  {
   "cell_type": "markdown",
   "metadata": {},
   "source": [
    "__Q2.__ To fill the following table with the geometric parameters of the robot:\n",
    "\n",
    "$$\n",
    "\\begin{array}{ccccc}\n",
    "\t\t\\hline\n",
    "\t\t\\hline\n",
    "\t\t i  & \\alpha_i & d_i & \\theta_i & r_i \\\\\n",
    "\t\t\\hline\n",
    "\t\t\\hline\n",
    "\t\t1  & ? & ? & ? & ? \\\\\n",
    "\t\t\\hline\n",
    "\t\t2  & ? & ? & ? & ? \\\\\n",
    "\t\t\\hline\n",
    "\t\t3  & ? & ? & ? & ? \\\\\n",
    "\t\t\\hline\n",
    "\t\t4  & ? & ? & ? & ? \\\\\n",
    "\t\t\\hline\n",
    "\t\t5  & ? & ? & ? & ? \\\\\n",
    "\t\t\\hline\n",
    "\t\t6  & ? & ? & ? & ? \\\\\n",
    "\t\t\\hline\n",
    "\t\t\\hline\n",
    "\\end{array}\n",
    "$$\n",
    "\n",
    "please complete the file named *DHM_parameters.txt* in the current repository."
   ]
  },
  {
   "cell_type": "markdown",
   "metadata": {},
   "source": [
    "Then, update the dictionnary __robotParameters__ with the DHM parameters as follows: \n",
    "\n",
    "*robotParameters['fileDHM'] = \"DHM_parameters.txt\"*\n",
    "\n",
    "*RobotTutorials = ClassRobotModel.RobotModel( **robotParameters )*\n",
    "\n",
    "Look at the resulting *attribute* named *\"self.tableDHM\"*"
   ]
  },
  {
   "cell_type": "code",
   "execution_count": null,
   "metadata": {},
   "outputs": [],
   "source": [
    "robotParameters['fileDHM'] = \"DHM_parameters.txt\"\n",
    "RobotTutorials = RobotModel( **robotParameters )"
   ]
  },
  {
   "cell_type": "markdown",
   "metadata": {},
   "source": [
    "__Q3-a.__ Write a generic function $TransformMatElem(\\alpha_i, d_i, \\theta_i, r_i)$ which output argument is the homogeneous transform matrix *g* between two successive frames."
   ]
  },
  {
   "cell_type": "code",
   "execution_count": null,
   "metadata": {},
   "outputs": [],
   "source": [
    "@staticmethod\n",
    "def TransformMatElem(alpha_i, d_i, theta_i, r_i):\n",
    "    \"\"\" \n",
    "    Computation of the homogeneous transform matrix between two successive frames R_(i-1) and R_i\n",
    "    \n",
    "    Input: \n",
    "        - Four scalar parameters given by the Modified Denavit-Hartenberg (MDH) convention\n",
    "         \n",
    "    Output: \n",
    "        - Homogeneous transform matrix g_(i-1,i) as a \"np.array\"\n",
    "    \"\"\"\n",
    "    \n",
    "    # To be completed...\n",
    "    # x = 1\n",
    "    \n",
    "    return x\n",
    "\n",
    "RobotModel.TransformMatElem = TransformMatElem"
   ]
  },
  {
   "cell_type": "markdown",
   "metadata": {},
   "source": [
    "__Q3-b.__Write a function $ComputeDGM(\\text{self}, q)$ which computes the direct geometric model of any robot with series open kinematic chain, taking as input arguments the current configuration."
   ]
  },
  {
   "cell_type": "code",
   "execution_count": null,
   "metadata": {},
   "outputs": [],
   "source": [
    "def ComputeDGM(self, q_cur):\n",
    "         \"\"\" \n",
    "         Computation of the Direct Geometric Model (DGM) of the robot given by its MDH parameters for the joint configuration q_cur\n",
    "         \n",
    "         Inputs: \n",
    "            - List of robot's geometric parameters \"self.tableDHM\" given by the Modified Denavit-Hartenberg (MDH) convention\n",
    "            - Number of joints of the robot \"self.numberJoints\"\n",
    "            - List of type of joints of the robot: \"self.sigma\"\n",
    "            - Current joint configuration \"q_cur\"\n",
    "            \n",
    "         Outputs: \n",
    "            - List of the successive homogeneous transform matrices: \"self.list_g_i_1_i = [g_01, ..., g_N_1_N]\"\n",
    "            - List of the successive resulting homogeneous transform matrices: \"self.list_g_0i = [g_01, g_02, ..., g_ON]\"\n",
    "         \"\"\"\n",
    "         \n",
    "         # To be completed...   \n",
    "            \n",
    "RobotModel.ComputeDGM = ComputeDGM"
   ]
  },
  {
   "cell_type": "markdown",
   "metadata": {},
   "source": [
    "__Q3-c.__ We consider an end-effector mounted at the end of the robot arm. The frame $\\mathcal{R}_E$ attached to the end-effector of the robot is defined by a translation of the frame  $\\mathcal{R}_6$ by a distance $r_E$ along the $z_6$ axis.\n",
    "\n",
    "Specify the four DHM parameters for the tool frame description in the field below.\n"
   ]
  },
  {
   "cell_type": "code",
   "execution_count": null,
   "metadata": {},
   "outputs": [],
   "source": [
    "robotParameters['toolFrameDHM'] = [ ?, ?, ?, ? ]\n",
    "RobotTutorials = RobotModel( **robotParameters )"
   ]
  },
  {
   "cell_type": "markdown",
   "metadata": {},
   "source": [
    "Using the results of previous questions, write a function $ComputeToolPose(\\text{self})$  that computes the homogeneous transform matrix $\\overline{g}_{0E}$. This matrix gives the position and the orientation of the frame $\\mathcal{R}_E$ attached to the end-effector of the robot, expressed in the base frame $\\mathcal{R}_0$."
   ]
  },
  {
   "cell_type": "code",
   "execution_count": null,
   "metadata": {},
   "outputs": [],
   "source": [
    "def ComputeToolPose(self):\n",
    "         \"\"\" \n",
    "         Computation of the homogeneous transform matrix g0E which gives the position and the orientation of the frame R_E attached to the end-effector of the robot, expressed in the base frame R_0 evaluated at the joint configuration q_cur\n",
    "         \n",
    "         Inputs: \n",
    "            - List of the successive homogeneous transform matrices \"self.list_g_0i\"\n",
    "            - Number of joints of the robot \"self.numberJoints\"\n",
    "            - List of the geometric parameters of the tool \"self.toolDHM\" given by the Modified Denavit-Hartenberg (MDH) convention\n",
    "            \n",
    "         Output: \n",
    "            - Homogeneous transform matrix \"self.g_0E\"\n",
    "         \"\"\"\n",
    "         \n",
    "         # To be completed...   \n",
    "            \n",
    "RobotModel.ComputeToolPose = ComputeToolPose"
   ]
  },
  {
   "cell_type": "markdown",
   "metadata": {},
   "source": [
    "In the following, we consider two joint configurations $q=\\left[q_1, \\ldots, q_6\\right]^t$ of the robot: $q_i=\\left[-\\frac{\\pi}{2}, 0 , -\\frac{\\pi}{2} , -\\frac{\\pi}{2} , -\\frac{\\pi}{2} , -\\frac{\\pi}{2} \\right]^t$ and $q_f=\\left[0, \\frac{\\pi}{4}  , 0 , \\frac{\\pi}{2} , \\frac{\\pi}{2} , 0\\right]^t$.\n",
    "\n",
    "Indicate what are the homogeneous transform matrices $\\overline{g}_{0E}$ evaluated in these two confugrations."
   ]
  },
  {
   "cell_type": "code",
   "execution_count": null,
   "metadata": {},
   "outputs": [],
   "source": []
  },
  {
   "cell_type": "markdown",
   "metadata": {},
   "source": [
    "__Q4.__ What are the values of positions $P_x, P_y, P_z$ and the parameters related to the orientation $R_{n,q}$ ($n$ being the direction vector and $q \\in \\left[0,\\pi\\right]$ the rotation angle such that $R_{n,q}=R_{0E}$) of the end-effector frame for the two joint configurations $q_i=\\left[-\\frac{\\pi}{2}, 0 , -\\frac{\\pi}{2} , -\\frac{\\pi}{2} , -\\frac{\\pi}{2} , -\\frac{\\pi}{2} \\right]^t$ and $q_f=\\left[0, \\frac{\\pi}{4}  , 0 , \\frac{\\pi}{2} , \\frac{\\pi}{2} , 0\\right]^t$ ($q=\\left[q_1, \\ldots, q_6\\right]^t$)?\n",
    "To do so, write a function $DescribeToolFrame(\\text{self})$ that computes the position vector and the parameters related to the orientation of the end-effector frame for the current configuration."
   ]
  },
  {
   "cell_type": "code",
   "execution_count": null,
   "metadata": {},
   "outputs": [],
   "source": [
    "def DescribeToolFrame(self):\n",
    "        \"\"\" \n",
    "        Computation of the position vector and the parameters related to the orientation R_n,q of the end-effector frame for the configuration q as specified in the constructor function \n",
    "                  \n",
    "        Input: \n",
    "           - Direct Geometric Model (DGM) of the robot including its end-effector through \"self.g_0E\"\n",
    "         \n",
    "        Outputs: \n",
    "           - Values of positions P=[Px, Py, Pz]' (in m) of the origin of frame R_E w.r.t. R_0 given in R_0: \"self.P\"\n",
    "           - Orientation parameters R_n,q, as follows:\n",
    "                   - \"self.n\": being the direction vector\n",
    "                   - \"self.q\" in [0,pi] the rotation angle in rad such that R_n,q = R_0E\n",
    "        \"\"\"\n",
    "        \n",
    "        # To be completed...\n",
    "        \n",
    "RobotModel.DescribeToolFrame = DescribeToolFrame        "
   ]
  },
  {
   "cell_type": "code",
   "execution_count": null,
   "metadata": {},
   "outputs": [],
   "source": []
  },
  {
   "cell_type": "markdown",
   "metadata": {},
   "source": [
    "## Direct kinematic model"
   ]
  },
  {
   "cell_type": "markdown",
   "metadata": {},
   "source": [
    "__Q5.__ Write a function $ComputeJac\\left(self, q\\right)$ which output is the Jacobian matrix ${}^0J(q)$ (computed by the method of velocities composition).\n",
    "\n",
    "Reminder: the Jacobian matrix relates the velocities in the task coordinates of the end-effector frame in $\\mathcal{R}_0$, for a given joint configuration $q$, to the joint velocities:\n",
    "\\begin{align*}\n",
    "{}^0\\mathcal{V}_{0,E}&= \\begin{bmatrix}^0V_{0,E}\\left(O_E\\right) \\\\ ^0\\omega_{0,E} \\end{bmatrix} = \\begin{bmatrix} {}^0J_v \\left(q\\right)  \\\\ {}^0J_{\\omega} \\left(q\\right)\\end{bmatrix} \\dot{q} = {}^0J\\left(q\\right) \\dot{q}\n",
    "\\end{align*}"
   ]
  },
  {
   "cell_type": "code",
   "execution_count": null,
   "metadata": {},
   "outputs": [],
   "source": [
    " def ComputeJac(self, q_cur):\n",
    "        \"\"\" \n",
    "        Computation of the Jacobian matrix mapping the joint velocities to the velocities of the end-effector for a joint configuration \"q_cur\"\n",
    "                \n",
    "        Inputs: \n",
    "           - List defining the types of joints : \"self.jointsType\" \n",
    "           - Number of joints of the robot: \"self.numberJoints\"\n",
    "           - Current configuration \"q_cur\"\n",
    "         \n",
    "        Output: \n",
    "           - Jacobian matrix 0_J in R_0: \"self.oJ\" as np.array\n",
    "        \"\"\"\n",
    "        \n",
    "        # To be completed...\n",
    "        \n",
    "RobotModel.ComputeJac = ComputeJac  "
   ]
  },
  {
   "cell_type": "markdown",
   "metadata": {},
   "source": [
    "What are the values of the twists at $O_E$ evaluated with $q=q_i$ and $q=q_f$ with the joint velocities $\\dot q = \\left[0.5, 1.0, -0.5, 0.5, 1.0, -0.5\\right]^t$?"
   ]
  },
  {
   "cell_type": "code",
   "execution_count": null,
   "metadata": {
    "scrolled": true
   },
   "outputs": [],
   "source": []
  },
  {
   "cell_type": "markdown",
   "metadata": {},
   "source": [
    "__Q6.__ In the rest of the study, we restrict the analysis of operational end-effector velocities to translational velocities via ${}^0J_v \\left(q\\right)$.\n",
    "\n",
    "Qualify the transmission of velocities between the joint and task spaces for the corresponding $q_i$ and $q_f$ configurations: what is the preferred direction to transmit velocity in the task space when the manipulator configuration is $q_i$? Same question for $q_f$? What are the corresponding velocity manipulabilities? \n",
    "To help, you can program a function $QualifyVelocityTransmission(self)$ that analyses the property of the Jacobian matrix. Explain your results."
   ]
  },
  {
   "cell_type": "code",
   "execution_count": null,
   "metadata": {},
   "outputs": [],
   "source": [
    "def QualifyVelocityTransmission(self):\n",
    "    \"\"\" \n",
    "    Qualifying the transmission of velocities\n",
    "              \n",
    "    Input:\n",
    "       - Jacobian matrix \"self.oJ\" to be analysed\n",
    "     \n",
    "    Outputs: \n",
    "       - To be defined...\n",
    "    \"\"\"\n",
    "    \n",
    "    # To be completed...\n",
    "\n",
    "RobotModel.QualifyVelocityTransmission = QualifyVelocityTransmission "
   ]
  },
  {
   "cell_type": "code",
   "execution_count": null,
   "metadata": {},
   "outputs": [],
   "source": []
  },
  {
   "cell_type": "code",
   "execution_count": null,
   "metadata": {},
   "outputs": [],
   "source": []
  },
  {
   "cell_type": "markdown",
   "metadata": {},
   "source": [
    "## Inverse geometric model"
   ]
  },
  {
   "cell_type": "markdown",
   "metadata": {},
   "source": [
    "__Q7.__ In this study, the resolution of the inverse geometric model is considered numerically by exploiting the inverse differential model. Moreover, the study is restricted to the position only of the robot's end-effector frame in the task space (no constraint on the orientation of the end-effector frame).\n",
    "\n",
    "Using an iterative procedure exploiting the pseudo-inverse of the Jacobian matrix, program a function $ComputeIGM(\\text{self}, X_d, q_0, k_{max}, \\epsilon_x)$ having as input arguments the desired task position $X_d$ and the initial condition $q_0$. Both the maximum number of iterations $k_{max}$ of the algorithm and the norm of the tolerated Cartesian error $|X_d - DGM(q_{k})|<\\epsilon_x$, define the stopping criteria of the algorithm."
   ]
  },
  {
   "cell_type": "code",
   "execution_count": null,
   "metadata": {},
   "outputs": [],
   "source": [
    "def ComputeIGM(self, X_d, q_0, k_max, eps_x):    \n",
    "        \"\"\" \n",
    "        Computation of the Inverse Geometric Model (IGM) mapping the Cartesian pose to the joint vector \"q\"\n",
    "                \n",
    "        Inputs: \n",
    "           - Desired Cartesian vector \"X_d\" as a np.array to be reached by the robot \n",
    "           - Initial condition \"q_0\" as a np.array\n",
    "           - Number \"k_max\" of maximal iteration in the recursive algorithm \n",
    "           - Norm of the tolerated Cartesian error \"eps_x\"\n",
    "         \n",
    "        Outputs: \n",
    "           - List \"self.list_q_IGM\" of the joint vectors computed at each iteration of the recursive algorithm \n",
    "           - Returned \"self.list_q_IGM[-1]\" of the final found joint vector, solution of the IGM\n",
    "           \n",
    "        \"\"\"\n",
    "        \n",
    "        # To be completed...\n",
    "        # x=1\n",
    "        return x\n",
    "\n",
    "RobotModel.ComputeIGM = ComputeIGM "
   ]
  },
  {
   "cell_type": "markdown",
   "metadata": {},
   "source": [
    "Compute $q^{\\ast}$ when the function is called with the following arguments:\n",
    "\n",
    "a) $X_d=X_{d_i}=\\left(-0.1, -0.7, 0.3\\right)^t$, $q_0=\\left[ -1.57, 0.00 , -1.47, -1.47, -1.47 , -1.47 \\right.$ $\\left., -1.47 \\right]$, $k_{max}=100$, $\\epsilon_x=1$mm?\n",
    "\n",
    "b) $X_d=X_{d_f}=\\left(0.64 , -0.10, 1.14\\right)^t$, $q_0=\\left[ 0 , 0.80 , 0.00 , 1.00 , 2.00 , 0.00 \\right]$, $k_{max}=100$, $\\epsilon_x=1$mm?\n",
    "\n",
    "Check the accuracy of the results using the function calculated in __Q3.__"
   ]
  },
  {
   "cell_type": "code",
   "execution_count": null,
   "metadata": {},
   "outputs": [],
   "source": []
  },
  {
   "cell_type": "markdown",
   "metadata": {},
   "source": [
    "## Inverse kinematic model"
   ]
  },
  {
   "cell_type": "markdown",
   "metadata": {},
   "source": [
    "In this question, the trajectory of the end-effector to be followed in the task space must allow the desired final position $X_{d_f}$ to be reached by following a straight line in the task space starting at the initial position $X_{d_i}$. This rectilinear motion is carried out at a constant speed $V=1m.s^{-1}$ and is sampled at a period $T_e=1$ms. The position of the end effector at the time instant $kT_e$ is noted $X_{d_k}$. The initial configuration of the robot is given by $q_i$ (found in question __Q4.__).\n",
    "\n",
    "__Q8.__ Using the inverse differential kinematic model, write a function entitled $ComputeIKM( \\text{self}, X_{d_i}, X_{d_f}, V, T_e, q_i)$ realizing the coordinate transform to provide the series of setpoint values $q_{d_k}$ corresponding to the $X_{d_k}$ to the joint drivers. To do this, after having programmed the time law corresponding to the required motion, you can use the function developed in question __Q7__ capable of calculating the iterative MGI from the pseudo-inverse of the Jacobian matrix."
   ]
  },
  {
   "cell_type": "code",
   "execution_count": null,
   "metadata": {},
   "outputs": [],
   "source": [
    "def ComputeIKM(self, X_d_i, X_d_f, V, Te, q_i, k_max, eps_x):    \n",
    "        \"\"\" \n",
    "        Computation of the Inverse differential Kinematic Model (IKM) making the coordinate transform to provide the series of setpoint values qdk corresponding to the Xdk to the joint drivers\n",
    "        \n",
    "        Inputs: \n",
    "           - Trajectory of the end effector to be followed in the task space between:\n",
    "               - the initial position \"X_d_i\"\n",
    "               - the desired final position \"X_d_f\" to be reached.\n",
    "           - Rectilinear motion carried out :\n",
    "               - at a constant speed \"V\"\n",
    "               - sampled at a period \"Te\"\n",
    "           - Initial configuration of the robot \"q_i\"\n",
    "           - Number \"k_max\" of maximal iteration in the recursive algorithm (to be used with \"self.ComputeIGM\")\n",
    "           - Norm of the tolerated Cartesian error \"eps_x\" (to be used with \"self.ComputeIGM\")\n",
    "           \n",
    "        Outputs: \n",
    "           - List \"self.discreteTime\" that defines the the sampled temporal series for each time step\n",
    "           - List \"self.list_X_d_k\" of the intermediate Cartesian poses to be reached by the robot\n",
    "           - List \"self.list_q_dk\" of the joint vectors computed at each iteration k of the recursive algorithm (series of setpoint values qdk corresponding to the Xdk to the joint drivers)\n",
    "        \"\"\"     \n",
    "        \n",
    "        # To be completed...\n",
    "\n",
    "RobotModel.ComputeIKM = ComputeIKM "
   ]
  },
  {
   "cell_type": "markdown",
   "metadata": {},
   "source": [
    "Check that the successively reached positions of the end-effector is following the desired trajectory. To do so, you can plot the error between the sequence of positions reached by the end device and the position set points at each time step."
   ]
  },
  {
   "cell_type": "code",
   "execution_count": null,
   "metadata": {},
   "outputs": [],
   "source": []
  },
  {
   "cell_type": "markdown",
   "metadata": {},
   "source": [
    "__Q9.__ Plot the temporal evolution of the joint variables $q_1$ to $q_6$ calculated in the previous question. For each joint variable, graphically overlay the allowable extreme values corresponding to the joint limits:\n",
    "\\begin{align*}\n",
    "q_{min} = \\left[\\begin{array}{c}{ -\\pi , -\\frac{\\pi}{2} , -\\pi , -\\pi , -\\frac{\\pi}{2}, -\\pi }\\end{array}\\right] \n",
    "\\end{align*}\n",
    "and\n",
    "\\begin{align*}\n",
    "q_{max} = \\left[\\begin{array}{c}{ 0 , \\frac{\\pi}{2} , 0  ,\\frac{\\pi}{2}, \\frac{\\pi}{2} , \\frac{\\pi}{2} }\\end{array}\\right] \n",
    "\\end{align*}"
   ]
  },
  {
   "cell_type": "code",
   "execution_count": null,
   "metadata": {},
   "outputs": [],
   "source": [
    "    "
   ]
  },
  {
   "cell_type": "markdown",
   "metadata": {},
   "source": [
    "Comment on the evolution of the joint variables obtained previously."
   ]
  },
  {
   "cell_type": "code",
   "execution_count": null,
   "metadata": {},
   "outputs": [],
   "source": []
  },
  {
   "cell_type": "markdown",
   "metadata": {},
   "source": [
    "__Q10.__ In this question, we modify the algorithm developed in question __Q8__. We wish to take into account the distance of the values taken by the joint variables from their limits in the computation of the inverse kinematic model.\n",
    "\n",
    "To do so, you will need to consider a secondary task aiming at keeping some distance from the articular stops $q_{min}$ and $q_{max}$. By the technique of the gradient projected into the null space of ${}^0J_v \\left(q\\right)$, you will consider minimizing the following potential function:\n",
    "\\begin{align*}\n",
    "\t\t\tH_{lim}\\left(q\\right) = \\sum_{i=1}^{n} \\left(\\frac{q_i-\\overline{q}_{i}}{q_{max}-q_{min}}\\right)^2 \\hspace{0.2cm} \\text{where} \\hspace{0.2cm} \\overline{q}_{i} =  \\frac{q_{max}+q_{min}}{2} \n",
    "\\end{align*}\n",
    "\n",
    "First, provide below the theoretical analytical solution for the joint variables to this problem."
   ]
  },
  {
   "cell_type": "code",
   "execution_count": null,
   "metadata": {},
   "outputs": [],
   "source": []
  },
  {
   "cell_type": "markdown",
   "metadata": {},
   "source": [
    "Then, develop a new function $ComputeIKMlimits(\\text{self}, X_{d_i}, X_{d_f}, V, T_e, q_i, q_{min}, q_{max})$ which implements the inverse kinematic model able to take into account the previous secondary task."
   ]
  },
  {
   "cell_type": "code",
   "execution_count": null,
   "metadata": {},
   "outputs": [],
   "source": [
    "def ComputeIKMlimits(self, X_d_i, X_d_f, V, Te, q_i, k_max, eps_x, q_min, q_max):    \n",
    "        \"\"\" \n",
    "        Computation of the Inverse differential Kinematic Model (IKM) making the coordinate transform to provide the series of setpoint values qdk corresponding to the Xdk to the joint drivers while taking into account the joint limits\n",
    "        \n",
    "        Inputs: \n",
    "           - Trajectory of the end effector to be followed in the task space between:\n",
    "               - the initial position \"X_d_i\"\n",
    "               - the desired final position \"X_d_f\" to be reached.\n",
    "           - Rectilinear motion carried out :\n",
    "               - at a constant speed \"V\"\n",
    "               - sampled at a period \"Te\"\n",
    "           - Initial configuration of the robot \"q_i\"\n",
    "           - Number \"k_max\" of maximal iteration in the recursive algorithm (to be used with \"self.ComputeIGM\")\n",
    "           - Norm of the tolerated Cartesian error \"eps_x\" (to be used with \"self.ComputeIGM\")\n",
    "           - Vector of lower bound of joint variable \"q_min\"\n",
    "           - Vector of upper bound of joint variable \"q_max\"\n",
    "           \n",
    "        Outputs: \n",
    "           - List \"self.list_q_dk_limits\" of the joint vectors computed at each iteration k of the recursive algorithm (series of setpoint values qdk corresponding to the Xdk to the joint drivers)\n",
    "           - List \"self.list_X_d_k\" of the intermediate Cartesian poses to be reached by the robot    \n",
    "        \"\"\"     \n",
    "        \n",
    "        # To be completed...\n",
    "        \n",
    "            \n",
    "RobotModel.ComputeIKMlimits = ComputeIKMlimits\n",
    "\n"
   ]
  },
  {
   "cell_type": "markdown",
   "metadata": {},
   "source": [
    "Plot the new temporal evolution of the joint variables $q_1$ to $q_6$ for the reference trajectory given in the question __Q9__."
   ]
  },
  {
   "cell_type": "code",
   "execution_count": null,
   "metadata": {},
   "outputs": [],
   "source": []
  },
  {
   "cell_type": "markdown",
   "metadata": {},
   "source": [
    "Comment on the values taken by the joint variables."
   ]
  },
  {
   "cell_type": "code",
   "execution_count": null,
   "metadata": {},
   "outputs": [],
   "source": []
  }
 ],
 "metadata": {
  "celltoolbar": "Format de la Cellule Texte Brut",
  "kernelspec": {
   "display_name": "Python 3",
   "language": "python",
   "name": "python3"
  },
  "language_info": {
   "codemirror_mode": {
    "name": "ipython",
    "version": 3
   },
   "file_extension": ".py",
   "mimetype": "text/x-python",
   "name": "python",
   "nbconvert_exporter": "python",
   "pygments_lexer": "ipython3",
   "version": "3.8.8"
  }
 },
 "nbformat": 4,
 "nbformat_minor": 2
}
