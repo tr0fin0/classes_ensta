{
 "cells": [
  {
   "cell_type": "markdown",
   "id": "522bc621",
   "metadata": {
    "cell_marker": "\"\"\"",
    "lines_to_next_cell": 2
   },
   "source": [
    "# CSC_52081_EP_TP1\n",
    "\n",
    "File may be found in: [https://www.lix.polytechnique.fr/~jread](https://www.lix.polytechnique.fr/~jread/courses/inf581/labs/01/).\n",
    "\n",
    "### Main Objectives \n",
    "\n",
    "Intelligent decision making involves several components. Today we study, in the context of a toy (low-dimensional, synthetic) example: *perception* (observation), *knowledge* (representation), *reasoning* (inference), and *acting* (decision-making). We will _not_ look at (today): learning and sequential decision making. Using probabalistic tools covered in the lecture (Bayesian networks, marginalization, ...), the objective is to design a rational/intelligent agent, i.e., an agent that maximizes its expected reward. \n",
    "\n",
    "\n",
    "### Instructions\n",
    "\n",
    "Work your way through the notebook, and provide code where indicated to complete the tasks. Check Moodle for details on how to submit your work."
   ]
  },
  {
   "cell_type": "markdown",
   "id": "f9a40ed2",
   "metadata": {
    "cell_marker": "\"\"\""
   },
   "source": [
    "### Imports\n",
    "\n",
    "First, we're going to import `numpy` and some utility functions/classes that we will use. make sure the `environment.py` is in your working directory. "
   ]
  },
  {
   "cell_type": "code",
   "execution_count": 5,
   "id": "ebf59cbd",
   "metadata": {},
   "outputs": [],
   "source": [
    "import numpy as np"
   ]
  },
  {
   "cell_type": "code",
   "execution_count": 6,
   "id": "86641748",
   "metadata": {},
   "outputs": [],
   "source": [
    "import matplotlib.pyplot as plt"
   ]
  },
  {
   "cell_type": "markdown",
   "id": "5ca4439d",
   "metadata": {
    "cell_marker": "\"\"\""
   },
   "source": [
    "And we'll use the environment defined in the file `environment.py`"
   ]
  },
  {
   "cell_type": "code",
   "execution_count": 7,
   "id": "f646da47",
   "metadata": {},
   "outputs": [],
   "source": [
    "# if you are using Google Colab, uncomment the following line (then comment again when you have run it): \n",
    "# !wget https://www.lix.polytechnique.fr/~jread/courses/inf581/labs/01/environment.py\n",
    "from environment import Environment"
   ]
  },
  {
   "cell_type": "markdown",
   "id": "bcd31b81",
   "metadata": {
    "cell_marker": "\"\"\""
   },
   "source": [
    "\n",
    "## The Environment and the Agent\n",
    "\n",
    "Consider an intelligent agent as a robot tasked with catching rats in a storage room. It is night time, and the room is dark. You have to rely on auditory information only, but luckily the room is a mess with paper and other debris that means there are distinct sounds which are emitted by a rat as it touches different objects (namely, crinkling and rustling sounds). The room is rectangular, divided up into $n$ square tiles.  A rat has just entered the room (current time $t=1$). The agent waits $T$ seconds (i.e., until $t=T$), then makes a decision on if and where to pounce (in order to catch the rat)."
   ]
  },
  {
   "cell_type": "markdown",
   "id": "e6d6b241",
   "metadata": {
    "cell_marker": "\"\"\""
   },
   "source": [
    "Let's instantiate an environment, and render a visualisation of it. "
   ]
  },
  {
   "cell_type": "code",
   "execution_count": null,
   "id": "06e68be5",
   "metadata": {
    "lines_to_next_cell": 2
   },
   "outputs": [
    {
     "data": {
      "image/png": "[encoded data removed]",
      "text/plain": [
       "<Figure size 800x400 with 1 Axes>"
      ]
     },
     "metadata": {},
     "output_type": "display_data"
    }
   ],
   "source": [
    "G = np.array([[1,3,0,2,4,1],\n",
    "              [2,1,0,3,0,3],\n",
    "              [4,0,3,0,2,0],\n",
    "              [3,1,2,3,0,4],\n",
    "              [2,0,0,0,1,1]])\n",
    "\n",
    "env = Environment(G)\n",
    "# Plot the environment in state 's_t = 4'\n",
    "fig, ax = env.render([4], None)\n",
    "plt.show()"
   ]
  },
  {
   "cell_type": "markdown",
   "id": "c9ac6a2d",
   "metadata": {},
   "source": [
    "*trofino:* here environment is defined by a matrix representing what each cell contains:\n",
    "- 0: no information\n",
    "- 1: crinkle (type of sound)\n",
    "- 2: rustle (type of sound)\n",
    "- 3: crinkle and rustle\n",
    "- 4: possible start position\n",
    "\n",
    "'x' represents the end position of the agent."
   ]
  },
  {
   "cell_type": "markdown",
   "id": "c2ce0cad",
   "metadata": {
    "cell_marker": "r\"\"\""
   },
   "source": [
    "#### Notation\n",
    "\n",
    "Let $s_t \\in \\{1,\\ldots,n\\}$ denote the position (state) of the rat at time step $t$ (one of $n$ grid tiles); starting at some $s_1$ (entry tile). And $\\mathbf{x}_t \\in \\{0,1\\}^2$ is the 2-dimensional auditory observation at time $t$ (e.g., $\\mathbf{x}_t = [1,0]$ if there is a crinkle but no rustle, etc). The agent accumulates a sequence of **observations** $\\mathbf{x}_{1:T} = \\mathbf{x}_1,\\ldots,\\mathbf{x}_T$, with which to make the decision of taking **action** $a$ to pounce (denoting the tile upon which it pounces). The agent obtains **reward** $r(s,a) = 1_{s = a}$, i.e., catching the rat provides reward $1$ and $0$ otherwise. \n",
    "\n",
    "As an influence diagram, the problem described can be depicted as follows: \n",
    "\n",
    "![pgm](https://www.lix.polytechnique.fr/~jread/courses/inf581/labs/01/fig/pgm.png)\n",
    "\n",
    "Your task is to model this problem in Python code. Finally, the goal is to implement an `Agent` which will provide the best action $a$ (according to current knowledge, i.e., given observation sequence $\\mathbf{x}_{1:T}$) and associated uncertainty.\n",
    "\n",
    "**Beware** of the potential confusion here: $s_T$ represents the state of the environment but decision making (choosing action $a$) is based on observation $o = \\mathbf{x}_{1:T}$. "
   ]
  },
  {
   "cell_type": "markdown",
   "id": "0d9f722e",
   "metadata": {
    "cell_marker": "r\"\"\"",
    "lines_to_next_cell": 1
   },
   "source": [
    "The Environment is fully specified for you, as a Markov process \n",
    "$$\n",
    "    s_{t+1} \\sim p(\\cdot | s_t)\n",
    "$$\n",
    "with observations \n",
    "$$\n",
    "    \\mathbf{x}_t \\sim p( \\cdot | s_t)\n",
    "$$\n",
    "You can find this functionality in the `step` function. \n",
    "\n",
    "You should be able to see by looking at the code, that the rat moves by exactly $1$ square tile, either horizontally or vertically (i.e., taxicab-distance) per time step $t$, within the bounds of the of the room, starting at one of the entry points (uniformly at random). Insofar as the observation function: a 'crinkle' indicator is generated with probability $\\theta_1$ when over certain tiles (green, or orange), and with probability $0$ over other tiles; furthermore, it will invoke a 'rustling' is indicated with probability $\\theta_2$ over certain tiles (red, or orange), and $0$ otherwise. On orange tiles, both noises are caused independently of each other.\n",
    "\n",
    "\n",
    "#### Task 1: Generating trajectories \n",
    "\n",
    "Complete the `gen_traj` function to generate a trajectory (of length $T$). You have full acces to the environment, e.g., you can call `env.step(...)`. "
   ]
  },
  {
   "cell_type": "code",
   "execution_count": 65,
   "id": "9b122c0d",
   "metadata": {},
   "outputs": [],
   "source": [
    "def gen_traj(env, T=5):\n",
    "    ''' Generate a path with associated observations.\n",
    "\n",
    "\n",
    "        Paramaters\n",
    "        ----------\n",
    "\n",
    "        T : int\n",
    "            how long is the path\n",
    "\n",
    "        Returns\n",
    "        -------\n",
    "\n",
    "        o : (T,d)-shape array\n",
    "            sequence of observations\n",
    "        s : T-length array of states\n",
    "            sequence of tiles\n",
    "    '''\n",
    "    s = np.zeros(T, dtype=int)\n",
    "    o = np.zeros((T, 2), dtype=int)\n",
    "\n",
    "    s[0] = np.random.choice(env.n_states,p=env.P_1)\n",
    "\n",
    "    for t in range(1, T):\n",
    "        s_t, o_t = env.step(s[t-1])\n",
    "\n",
    "        s[t] = s_t\n",
    "        o[t] = o_t\n",
    "\n",
    "    return o, s"
   ]
  },
  {
   "cell_type": "code",
   "execution_count": 106,
   "id": "2b715933",
   "metadata": {
    "lines_to_next_cell": 2
   },
   "outputs": [
    {
     "data": {
      "image/png": "[encoded data removed]",
      "text/plain": [
       "<Figure size 800x400 with 1 Axes>"
      ]
     },
     "metadata": {},
     "output_type": "display_data"
    }
   ],
   "source": [
    "# Generate and view (plot) the trajectory\n",
    "ooo, sss = gen_traj(env,5)\n",
    "fig, ax = env.render(sss, ooo)\n",
    "plt.show()"
   ]
  },
  {
   "cell_type": "markdown",
   "id": "79bee7cf",
   "metadata": {},
   "source": [
    "*trofino*: about circles:\n",
    "- red circle: agent detected a rustle\n",
    "- green circle: agent detected a crinkle\n",
    "\n",
    "agent may have false positives when:\n",
    "1. detecting sound where there isn't any\n",
    "2. not detecting sound where there is."
   ]
  },
  {
   "cell_type": "markdown",
   "id": "72e86618",
   "metadata": {
    "cell_marker": "r\"\"\"",
    "lines_to_next_cell": 1
   },
   "source": [
    "It is important to realise that although we can have full access to the environment, as well as observations, we do not expect (in the 'real world') to see the true path $s_1,\\ldots,s_T$ and hence the challenge in estimating $s_T$. For this we will create an `Agent` class."
   ]
  },
  {
   "cell_type": "code",
   "execution_count": 107,
   "id": "f5ac03e6",
   "metadata": {},
   "outputs": [],
   "source": [
    "class Agent: \n",
    "\n",
    "    def __init__(self, env): \n",
    "        '''\n",
    "            env : Environment \n",
    "                of the type provided to you\n",
    "        '''\n",
    "        self.env = env\n",
    "\n",
    "    # TODO (optional): Add any auxilliary functions you might use here \n",
    "\n",
    "\n",
    "    def P_traj(self, ooo, M=-1):\n",
    "        '''\n",
    "        Provides full conditional distribution P(SSS | ooo) where SSS and ooo are sequences of length T.\n",
    "        $$\n",
    "            P( Y_1,\\ldots,Y_T | o_1,\\ldots,o_T )\n",
    "        $$\n",
    "\n",
    "\n",
    "        Parameters\n",
    "        ----------\n",
    "\n",
    "        ooo : array_like(t, d)\n",
    "            t observations (of d dimensions each)\n",
    "\n",
    "        M : int\n",
    "            -1 indicates to use a brute force solution (exact recovery of the distribution) \n",
    "            M > 0 indicates to use M Monte Carlo simulations (this parameter is used in Week 2)\n",
    "\n",
    "\n",
    "        Returns\n",
    "        -------\n",
    "\n",
    "        p : dict(str:float)\n",
    "            such that p[sss] = P(sss | ooo)\n",
    "            and if sss not in p, it implies P(sss | ooo) = 0\n",
    "\n",
    "            important: let sss be a string representation of the state sequence, separated by spaces, e.g., \n",
    "            the string representation of np.array([1,2,3,4],dtype=int) should be '1 2 3 4'. \n",
    "        ''' \n",
    "        p = {}\n",
    "\n",
    "        \n",
    "\n",
    "        # TODO \n",
    "        return p\n",
    "\n",
    "        \n",
    "    def P_S(self, o, t=-1): \n",
    "        '''\n",
    "        Provide P(s_t | o) given observations o from 1,...,T.  \n",
    "\n",
    "        $$\n",
    "            P(S_t | o_1,...,o_T ).\n",
    "        $$\n",
    "        \n",
    "        The probability (distribution) of the t-th state, given the observed evidence 'o'.\n",
    "\n",
    "        Parameters\n",
    "        ----------\n",
    "\n",
    "        o : array_like(t,d)\n",
    "            up to t observations (of d dimensions each)\n",
    "\n",
    "        t : int\n",
    "            the state being queried, e.g., 3, or -1 for final state (corresponding to o[-1])\n",
    "\n",
    "        Returns\n",
    "        -------\n",
    "\n",
    "        P : array_like(float,ndim=1) \n",
    "            such that P[s] = P(S_t = s | o_1,...,o_t)\n",
    "        '''\n",
    "        # TODO \n",
    "        return P\n",
    "\n",
    "    def Q(self, o): \n",
    "        '''\n",
    "            Provide Q(o,a) for all a i.e., the value for any given a under observation o. \n",
    "\n",
    "            Parameters\n",
    "            ----------\n",
    "\n",
    "            o : array_like(int,ndim=2)\n",
    "                t observations (of 2 bits each)\n",
    "\n",
    "            Returns\n",
    "            -------\n",
    "\n",
    "            Q : array_like(float,ndim=n_actions)\n",
    "                such that Q[a] is the value (expected reward) of action a.\n",
    "\n",
    "        '''\n",
    "        Q = np.zeros(env.n_states)\n",
    "        # TODO \n",
    "        return Q\n",
    "\n",
    "    def act(self, obs): \n",
    "        '''\n",
    "        Decide on the best action to take, under the provided observation. \n",
    "\n",
    "        Parameters\n",
    "        ----------\n",
    "\n",
    "        obs : array_like(int,ndim=2)\n",
    "            t observations (of 2 bits each)\n",
    "\n",
    "        Returns\n",
    "        -------\n",
    "\n",
    "        a : int\n",
    "            the chosen action a\n",
    "        '''\n",
    "\n",
    "        a = -1\n",
    "        # TODO \n",
    "        return a"
   ]
  },
  {
   "cell_type": "code",
   "execution_count": null,
   "id": "c618c3e2",
   "metadata": {},
   "outputs": [],
   "source": [
    "# Let's instantiate our agent\n",
    "agent = Agent(env)"
   ]
  },
  {
   "cell_type": "markdown",
   "id": "3ebe4e27",
   "metadata": {
    "cell_marker": "\"\"\""
   },
   "source": [
    "The Agent is responsible for receiving observation $o = \\mathbf{x}_{1:T}$ and producing prediction $a$, i.e., it implements $a = \\pi(o)$, i.e., its policy or `act` function as it is called here below. But let's implement the functionality step by step. \n",
    "\n",
    "#### Task 2: Complete the `P_traj` function above, which specifies  \n",
    "$$\n",
    "    P(S_{1:T} | \\mathbf{x}_{1:T})\n",
    "$$\n",
    "(returns a distribution, one number associated to each *possible* trajectory $s_1,\\ldots,s_T$).\n",
    "\n",
    "\n",
    "Implementation hint: For this, and remaining tasks. It may be useful to implement for the simple case of a single state observation (single time step) first. "
   ]
  },
  {
   "cell_type": "code",
   "execution_count": null,
   "id": "4f44c937",
   "metadata": {},
   "outputs": [],
   "source": [
    "# Call your function\n",
    "P_joint = agent.P_traj(ooo)\n",
    "\n",
    "# Check should sum to 1 (or close enough)\n",
    "probs = list(P_joint.values())\n",
    "assert abs(sum(probs) - 1) <= 0.05\n",
    "\n",
    "# Extract possible paths\n",
    "paths = [np.fromstring(k, sep=' ') for k in P_joint.keys()] \n",
    "\n",
    "# Take some samples\n",
    "sample_indices = np.random.choice(len(probs), size=10, p=probs)\n",
    "trajs = [paths[i].astype(int) for i in sample_indices]\n",
    "\n",
    "# "
   ]
  },
  {
   "cell_type": "markdown",
   "id": "57d854f1",
   "metadata": {
    "cell_marker": "\"\"\""
   },
   "source": []
  },
  {
   "cell_type": "code",
   "execution_count": null,
   "id": "9adf0909",
   "metadata": {},
   "outputs": [],
   "source": []
  },
  {
   "cell_type": "markdown",
   "id": "7b413101",
   "metadata": {
    "cell_marker": "\"\"\""
   },
   "source": []
  },
  {
   "cell_type": "code",
   "execution_count": null,
   "id": "2c184028",
   "metadata": {},
   "outputs": [],
   "source": []
  },
  {
   "cell_type": "markdown",
   "id": "b60e3936",
   "metadata": {
    "cell_marker": "\"\"\""
   },
   "source": []
  },
  {
   "cell_type": "code",
   "execution_count": null,
   "id": "62fc1673",
   "metadata": {
    "lines_to_next_cell": 2
   },
   "outputs": [],
   "source": []
  },
  {
   "cell_type": "markdown",
   "id": "85bb1738",
   "metadata": {
    "cell_marker": "\"\"\""
   },
   "source": []
  },
  {
   "cell_type": "markdown",
   "id": "e7ed6072",
   "metadata": {
    "cell_marker": "\"\"\""
   },
   "source": []
  },
  {
   "cell_type": "code",
   "execution_count": null,
   "id": "99234f05",
   "metadata": {
    "lines_to_next_cell": 2
   },
   "outputs": [],
   "source": []
  },
  {
   "cell_type": "markdown",
   "id": "b3cef407",
   "metadata": {
    "cell_marker": "\"\"\""
   },
   "source": []
  }
 ],
 "metadata": {
  "jupytext": {
   "cell_metadata_filter": "-all",
   "main_language": "python",
   "notebook_metadata_filter": "-all"
  },
  "kernelspec": {
   "display_name": "Python 3",
   "language": "python",
   "name": "python3"
  },
  "language_info": {
   "codemirror_mode": {
    "name": "ipython",
    "version": 3
   },
   "file_extension": ".py",
   "mimetype": "text/x-python",
   "name": "python",
   "nbconvert_exporter": "python",
   "pygments_lexer": "ipython3",
   "version": "3.10.12"
  }
 },
 "nbformat": 4,
 "nbformat_minor": 5
}
