{
 "cells": [
  {
   "cell_type": "markdown",
   "metadata": {},
   "source": [
    "# Exercise 1 Modeling and analysis of spike trains"
   ]
  },
  {
   "cell_type": "markdown",
   "metadata": {},
   "source": [
    "**Objective:** The goal of this exercise is to learn basic tools of spiking data analysis and to the explore the dynamics Leaky Integrate and Fire (LIF) neural model\n",
    "\n",
    "**Components:** This exercise has three steps: first you must implement tools for data analysis and use them to analyse a spike train from the mouse retina. Second you must generate spikes with a neural simulator, brian. Third you should compare the experimental and simulated spike trains. For comparison you should use the tools developed in the first step.\n",
    "\n",
    "**Code organization:** Several files are provided to you: exercise1.ipynb (the jupyter notebook); io_spiking_data.py; spiking_data_analysis.py; interface_simulator.py. \n",
    "In exercise1.ipynb you should write your written answers, but in terms of code there is very few things to change. It is already formated for the exercise. <!---On the top of this file are defined the model parameters, you should not change them, as they were set to mimic mouse cells. -->\n",
    "You should not change io_spiking_data.py. If you do it, most probably you will have troubles reading and writting your data.\n",
    "You should write text on exercise1.ipynb and code on the files spiking_data_analysis.py and interface_simulator.py."
   ]
  },
  {
   "cell_type": "markdown",
   "metadata": {},
   "source": [
    "## Part I: Experimental spike train analysis"
   ]
  },
  {
   "cell_type": "markdown",
   "metadata": {},
   "source": [
    "Load the necessary packages, experimental data, and define global variables"
   ]
  },
  {
   "cell_type": "code",
   "execution_count": null,
   "metadata": {},
   "outputs": [],
   "source": [
    "# load packages\n",
    "%load_ext autoreload\n",
    "#this is to update your packages automatically\n",
    "%autoreload 2\n",
    "# more info https://ipython.readthedocs.io/en/stable/config/extensions/autoreload.html#autoreload\n",
    "\n",
    "import numpy as np\n",
    "import matplotlib.pyplot as plt\n",
    "%matplotlib inline\n",
    "import brian2 as b2\n",
    "from neurodynex.leaky_integrate_and_fire import LIF\n",
    "from neurodynex.tools import plot_tools, spike_tools\n",
    "import time\n",
    "import io_spike_train\n",
    "import data_analysis\n",
    "import interface_simulator\n",
    "\n",
    "# do not change these parameters! These are standard values for the LIF model. They were estimated based on experimental data. For more informations see neural dynamics book.\n",
    "\n",
    "V_REST = -70 #mV\n",
    "V_RESET = -70 #mV #we assume that the resting potential is the same as the reset potential\n",
    "FIRING_THRESHOLD = -50 #mV\n",
    "MEMBRANE_RESISTANCE = 10.*10**(9) #mohm \n",
    "MEMBRANE_TIME_SCALE = 8. #(tau) ms\n",
    "ABSOLUTE_REFRACTORY_PERIOD = 0.0#we didn't speak about this parameter in the class. For more informations see neural dynamics book. ms\n",
    "t_max_constant_current = 1e3 #(ms)\n",
    "t_max_varying_current = 1e4 #(ms)\n",
    "t_start = 0\n",
    "max_lag = 150"
   ]
  },
  {
   "cell_type": "markdown",
   "metadata": {},
   "source": [
    "Please write the full path to the exercise folder"
   ]
  },
  {
   "cell_type": "code",
   "execution_count": null,
   "metadata": {},
   "outputs": [],
   "source": [
    "exercise_folder_path = '/home/pamplona/classes/2021_MI210/Chapter1/' # This string must end with a slash ('/') "
   ]
  },
  {
   "cell_type": "markdown",
   "metadata": {},
   "source": [
    "Loading and plotting the data"
   ]
  },
  {
   "cell_type": "code",
   "execution_count": null,
   "metadata": {},
   "outputs": [],
   "source": [
    "# first define the file_name and load the file\n",
    "file_name_spike_train_experimental = exercise_folder_path + \"experimental_spike_train.hdf5\"\n",
    "spike_train_experimental = io_spike_train.read_spike_train_H5(file_name_spike_train_experimental)\n",
    "\n",
    "#then plot your data\n",
    "data_analysis.plot_spike_train(spike_train_experimental)"
   ]
  },
  {
   "cell_type": "markdown",
   "metadata": {},
   "source": [
    "<span style=\"color:blue\"> **Question 1.** In 2 or 3 paragraphs define temporal sparseness and burst of activity of a spike train</span>"
   ]
  },
  {
   "cell_type": "markdown",
   "metadata": {},
   "source": [
    "A1: Write your answer here"
   ]
  },
  {
   "cell_type": "markdown",
   "metadata": {},
   "source": [
    "<span style=\"color:green\"> **Question 2.** In data_analysis.py write a functon to estimate the average spike rate of a spike train. The spike rate should come in Hz (spikes/sec). Use this function to estimate the spike rate of the experimental data</span>  "
   ]
  },
  {
   "cell_type": "code",
   "execution_count": null,
   "metadata": {},
   "outputs": [],
   "source": [
    "experimental_avg_spike_rate = data_analysis.get_average_spike_rate(spike_train_experimental)\n",
    "print('The experimental data average spike rate is ' +str(experimental_avg_spike_rate)+'Hz')"
   ]
  },
  {
   "cell_type": "markdown",
   "metadata": {},
   "source": [
    "<span style=\"color:green\"> **Question 3.** In data_analysis.py write a functon to estimate the distribution of the inter-spike intervals of a spike train. Hint: start by estimating the all the time differences between consecutive spikes. Use this function to estimate the inter-spike interval of the experimental data. </span>  "
   ]
  },
  {
   "cell_type": "code",
   "execution_count": null,
   "metadata": {},
   "outputs": [],
   "source": [
    "experimental_isi = data_analysis.get_isi(spike_train_experimental)"
   ]
  },
  {
   "cell_type": "code",
   "execution_count": null,
   "metadata": {},
   "outputs": [],
   "source": [
    "data_analysis.plot_isi(experimental_isi[0],experimental_isi[1])"
   ]
  },
  {
   "cell_type": "markdown",
   "metadata": {},
   "source": [
    "<span style=\"color:green\"> **Question 4**. In data_analysis.py write a functon to estimate the the autocorrelation of a spike train. Estimate the autocorrelation of the experimental spike train, please don't forget to change the maximum lag.</span>  "
   ]
  },
  {
   "cell_type": "code",
   "execution_count": null,
   "metadata": {},
   "outputs": [],
   "source": [
    "max_lag = 1 #introduce a value here!\n",
    "experimental_auto_corr = data_analysis.get_autocorrelation(spike_train_experimental, max_lag)"
   ]
  },
  {
   "cell_type": "code",
   "execution_count": null,
   "metadata": {},
   "outputs": [],
   "source": [
    "data_analysis.plot_autocorrelation(experimental_auto_corr,max_lag)"
   ]
  },
  {
   "cell_type": "markdown",
   "metadata": {},
   "source": [
    "<span style=\"color:blue\"> **Question 5.**Based on the three measures above, define a function in data_analysis that detects bursts of activity. Criticize this function defining its pros and cons. You can use a function already defined in the literature, just do not forget to include the bibliography in the report.</span> "
   ]
  },
  {
   "cell_type": "markdown",
   "metadata": {},
   "source": [
    "## Part II: Leaky Integrate and Fire (LIF) neural model: dynamics and simulation"
   ]
  },
  {
   "cell_type": "markdown",
   "metadata": {},
   "source": [
    " For more information on the LIF neural model, you can consult the neuronal dynamics book available online at: https://neuronaldynamics.epfl.ch/"
   ]
  },
  {
   "cell_type": "markdown",
   "metadata": {},
   "source": [
    "<span style=\"color:blue\"> **Question 6.** In 2 or 3 paragraphs summarize the leak-Integrate and fire neuron model.</span> "
   ]
  },
  {
   "cell_type": "markdown",
   "metadata": {},
   "source": [
    "A6: Write your answer here"
   ]
  },
  {
   "cell_type": "markdown",
   "metadata": {},
   "source": [
    "<span style=\"color:green\"> **Question 7.** Under this model, derive mathematically the dynamics of the membrane potential when there is no input current, thus I(t) = 0, assuming that at time t0 the V(t0)= Vrest+ δ, with 0<δ<τ, where τ is the membrane threshold. Interpret the result and make predictions in terms of spiking patterns.</span> "
   ]
  },
  {
   "cell_type": "markdown",
   "metadata": {},
   "source": [
    "A7: Write your answer here"
   ]
  },
  {
   "cell_type": "markdown",
   "metadata": {},
   "source": [
    "<span style=\"color:green\">**Question 8.**Under this model, derive mathematically the dynamics of the membrane potential when the input current is constant, thus I(t) = K, for some K>0, assuming that at V(t0) = Vrest. Calculate the minimal current for which there is spiking activity. Interpret and make predictions in terms of spiking patterns.</span>  "
   ]
  },
  {
   "cell_type": "markdown",
   "metadata": {},
   "source": [
    "A8: Write your answer here"
   ]
  },
  {
   "cell_type": "markdown",
   "metadata": {},
   "source": [
    "<span style=\"color:green\">**Question 9.**Under the same assumptions, estimate the period for the case when the input current is above the minimal current.</span> "
   ]
  },
  {
   "cell_type": "markdown",
   "metadata": {},
   "source": [
    "A9: Write your answer here"
   ]
  },
  {
   "cell_type": "markdown",
   "metadata": {},
   "source": [
    "<span style=\"color:green\"> **Question 10.** In the file “interface_simulator.py” write a function in python that given the LIF model parameters returns the minimal current for the neuron to spike. Choose the relevant variables for this function and calculate the minimal current for the model parameters defined in the beginning of the main.py file.</span> "
   ]
  },
  {
   "cell_type": "code",
   "execution_count": null,
   "metadata": {},
   "outputs": [],
   "source": [
    "Imin = interface_simulator.get_Imin(V_RESET,FIRING_THRESHOLD, MEMBRANE_RESISTANCE )\n",
    "print(\"The minimal current to spike is \"+str(Imin)+\"mA\")"
   ]
  },
  {
   "cell_type": "markdown",
   "metadata": {
    "tags": []
   },
   "source": [
    "<span style=\"color:green\"> **Question 11.**Generate two constant input currents as defined in 7): one bellow the the minimal current, one above the minimal current. For both spike trains, you just have to change the value of the current and run the Brian simulator and analyse their membrane potential and the spiking patterns. Do they correspond to the theoretical expectations? [Note: for this simulator, the time to run is proportional to the time to generate spikes. It is normal to take minutes to finish]</span> "
   ]
  },
  {
   "cell_type": "code",
   "execution_count": null,
   "metadata": {},
   "outputs": [],
   "source": [
    "#####a) below\n",
    "\n",
    "I_below = 0 #introduce the value here!\n",
    "\n",
    "I_below_array = interface_simulator.make_constant_array(t_start, t_max_constant_current, I_below) #defines the current as a numpy array\n",
    "I_below_current =  io_spike_train.adapt_input(I_below_array) #converts the numpy array into a current that brian can read\n",
    "\n",
    "#simulating the neuron\n",
    "#NOTE: In the first time you run this simulator, it might raise a warning, just dismiss it!\n",
    "(I_below_state_monitor, I_below_spike_monitor) = LIF.simulate_LIF_neuron(\n",
    "        input_current = I_below_current, simulation_time = t_max_constant_current * b2.ms,v_rest = V_REST*b2.mV,v_reset = V_RESET*b2.mV, firing_threshold = FIRING_THRESHOLD*b2.mV, membrane_resistance = MEMBRANE_RESISTANCE * b2.mohm, membrane_time_scale = MEMBRANE_TIME_SCALE* b2.ms, abs_refractory_period=ABSOLUTE_REFRACTORY_PERIOD* b2.ms) \n",
    "\n",
    "#plotting\n",
    "plt.figure()\n",
    "plot_tools.plot_voltage_and_current_traces(\n",
    "        I_below_state_monitor, I_below_current, title=\"Below Minimal input current\", firing_threshold=FIRING_THRESHOLD*b2.mV)\n",
    "print(\"nr of spikes: {}\".format(I_below_spike_monitor.count[0])) #plots the current and voltage\n",
    "\n",
    "I_below_spike_train = io_spike_train.extract_spike_train_from_spike_monitor(I_below_spike_monitor,t_max_constant_current) #converts the spikes from brian into a numpy array\n",
    "\n",
    "data_analysis.plot_spike_train(I_below_spike_train) #plots the spike train"
   ]
  },
  {
   "cell_type": "code",
   "execution_count": null,
   "metadata": {},
   "outputs": [],
   "source": [
    "##### b)\n",
    "I_above = 0 #introduce the value here!\n",
    "\n",
    "I_above_array = interface_simulator.make_constant_array(t_start, t_max_constant_current,I_above)\n",
    "I_above_current = io_spike_train.adapt_input(I_above_array)\n",
    "\n",
    "(I_above_state_monitor, I_above_spike_monitor) = LIF.simulate_LIF_neuron(\n",
    "        input_current = I_above_current, simulation_time = t_max_constant_current * b2.ms,v_rest = V_REST*b2.mV,v_reset = V_RESET*b2.mV, firing_threshold = FIRING_THRESHOLD*b2.mV, membrane_resistance = MEMBRANE_RESISTANCE * b2.mohm, membrane_time_scale = MEMBRANE_TIME_SCALE* b2.ms, abs_refractory_period=ABSOLUTE_REFRACTORY_PERIOD* b2.ms)\n",
    "\n",
    "plt.figure()\n",
    "plot_tools.plot_voltage_and_current_traces(\n",
    "        I_above_state_monitor,I_above_current, title = \"Above input current\", firing_threshold = FIRING_THRESHOLD*b2.mV)\n",
    "print(\"nr of spikes: {}\".format(I_above_spike_monitor.count[0]))\n",
    "\n",
    "I_above_spike_train = io_spike_train.extract_spike_train_from_spike_monitor(I_above_spike_monitor, t_max_constant_current) #converts the spikes from brian into a numpy array\n",
    "\n",
    "data_analysis.plot_spike_train(I_above_spike_train)#plots the spike train"
   ]
  },
  {
   "cell_type": "markdown",
   "metadata": {},
   "source": [
    "<span style=\"color:green\">**Question 12.**Using the spiking analysis tools defined on the first part, estimate the period of the spike train of the neuron I_above.</span>"
   ]
  },
  {
   "cell_type": "code",
   "execution_count": null,
   "metadata": {},
   "outputs": [],
   "source": [
    "max_lag = 1\n",
    "I_above_auto_corr = data_analysis.get_autocorrelation(I_above_spike_train,max_lag)\n",
    "data_analysis.plot_autocorrelation(I_above_auto_corr, max_lag)"
   ]
  },
  {
   "cell_type": "markdown",
   "metadata": {},
   "source": [
    "<span style=\"color:blue\">**Question 12**.Define a parametric function that models the input current to a LIF neuron. The input current can anything you want, for instance, it can be defined by the sum of various functions, in parts, mixtures models, etc. Varying the parameters of this function generate three spike trains with distinct features between them (biological plausible or not). For the three cases you just have to define the function and the arguments.</span>"
   ]
  },
  {
   "cell_type": "code",
   "execution_count": null,
   "metadata": {},
   "outputs": [],
   "source": [
    "args = {}\n",
    "#define the arguments here!\n",
    "\n",
    "my_I_array1 = interface_simulator.make_my_current_array(args) #you should fill this function in interface_simulator\n",
    "my_I_current1 = io_spike_train.adapt_input(my_I_array1)\n",
    "\n",
    "(my_I_state_monitor1, my_I_spike_monitor1) = LIF.simulate_LIF_neuron(\n",
    "        input_current = my_I_current1, simulation_time = t_max_varying_current * b2.ms,v_rest = V_REST*b2.mV,v_reset = V_RESET*b2.mV, firing_threshold = FIRING_THRESHOLD*b2.mV, membrane_resistance = MEMBRANE_RESISTANCE * b2.mohm, membrane_time_scale = MEMBRANE_TIME_SCALE* b2.ms, abs_refractory_period=ABSOLUTE_REFRACTORY_PERIOD* b2.ms)\n",
    "\n",
    "plt.figure()\n",
    "plot_tools.plot_voltage_and_current_traces(\n",
    "        my_I_state_monitor1,my_I_current1, title = \"My input current 1\", firing_threshold = FIRING_THRESHOLD*b2.mV)\n",
    "print(\"nr of spikes: {}\".format(my_I_spike_monitor1.count[0]))\n",
    "\n",
    "my_I_spike_train1 = io_spike_train.extract_spike_train_from_spike_monitor(my_I_spike_monitor1,t_max_varying_current) #converts the spikes from brian into a numpy array\n",
    "\n",
    "data_analysis.plot_spike_train(my_I_spike_train1) #plots the spike train"
   ]
  },
  {
   "cell_type": "code",
   "execution_count": null,
   "metadata": {},
   "outputs": [],
   "source": [
    "args = {}\n",
    "#define the arguments here!\n",
    "my_I_array2 = interface_simulator.make_my_current_array(args) #you should fill this function in interface_simulator\n",
    "my_I_current2 = io_spike_train.adapt_input(my_I_array2)\n",
    "\n",
    "(my_I_state_monitor2, my_I_spike_monitor2) = LIF.simulate_LIF_neuron(\n",
    "        input_current = my_I_current2, simulation_time = t_max_varying_current * b2.ms,v_rest = V_REST*b2.mV,v_reset = V_RESET*b2.mV, firing_threshold = FIRING_THRESHOLD*b2.mV, membrane_resistance = MEMBRANE_RESISTANCE * b2.mohm, membrane_time_scale = MEMBRANE_TIME_SCALE* b2.ms, abs_refractory_period=ABSOLUTE_REFRACTORY_PERIOD* b2.ms)\n",
    "\n",
    "plt.figure()\n",
    "plot_tools.plot_voltage_and_current_traces(\n",
    "        my_I_state_monitor1,my_I_current2, title = \"My input current 2\", firing_threshold = FIRING_THRESHOLD*b2.mV)\n",
    "print(\"nr of spikes: {}\".format(my_I_spike_monitor2.count[0]))\n",
    "\n",
    "my_I_spike_train2 = io_spike_train.extract_spike_train_from_spike_monitor(my_I_spike_monitor2,t_max_varying_current) #converts the spikes from brian into a numpy array\n",
    "\n",
    "data_analysis.plot_spike_train(my_I_spike_train2) #plots the spike train"
   ]
  },
  {
   "cell_type": "code",
   "execution_count": null,
   "metadata": {},
   "outputs": [],
   "source": [
    "args = {}\n",
    "#define the arguments here!\n",
    "\n",
    "my_I_array3 = interface_simulator.make_my_current_array(args) #you should fill this function in interface_simulator\n",
    "my_I_current3 = io_spike_train.adapt_input(my_I_array3)\n",
    "\n",
    "(my_I_state_monitor3, my_I_spike_monitor3) = LIF.simulate_LIF_neuron(\n",
    "        input_current = my_I_current3, simulation_time = t_max_varying_current * b2.ms,v_rest = V_REST*b2.mV,v_reset = V_RESET*b2.mV, firing_threshold = FIRING_THRESHOLD*b2.mV, membrane_resistance = MEMBRANE_RESISTANCE * b2.mohm, membrane_time_scale = MEMBRANE_TIME_SCALE* b2.ms, abs_refractory_period=ABSOLUTE_REFRACTORY_PERIOD* b2.ms)\n",
    "\n",
    "plt.figure()\n",
    "plot_tools.plot_voltage_and_current_traces(\n",
    "        my_I_state_monitor3,my_I_current3, title = \"My input current 3\", firing_threshold = FIRING_THRESHOLD*b2.mV)\n",
    "print(\"nr of spikes: {}\".format(my_I_spike_monitor3.count[0]))\n",
    "\n",
    "my_I_spike_train3 = io_spike_train.extract_spike_train_from_spike_monitor(my_I_spike_monitor3,t_max_varying_current) #converts the spikes from brian into a numpy array\n",
    "\n",
    "data_analysis.plot_spike_train(my_I_spike_train3) #plots the spike train"
   ]
  },
  {
   "cell_type": "markdown",
   "metadata": {},
   "source": [
    "## Part III: interface_simulator"
   ]
  },
  {
   "cell_type": "markdown",
   "metadata": {},
   "source": [
    "<span style=\"color:blue\">**Question 13.**Using the functions implemented in part I, compare the temporal sparseness and the bursting of the experimental and simulated spike trains. If necessary, you can implement some auxiliary functions, including plotting functions. This comparison should include some text, figures and tables.</span> "
   ]
  },
  {
   "cell_type": "markdown",
   "metadata": {},
   "source": [
    "A13: Write your answer here"
   ]
  }
 ],
 "metadata": {
  "anaconda-cloud": {},
  "celltoolbar": "Raw Cell Format",
  "kernelspec": {
   "display_name": "Python 3",
   "language": "python",
   "name": "python3"
  },
  "language_info": {
   "codemirror_mode": {
    "name": "ipython",
    "version": 3
   },
   "file_extension": ".py",
   "mimetype": "text/x-python",
   "name": "python",
   "nbconvert_exporter": "python",
   "pygments_lexer": "ipython3",
   "version": "3.9.2"
  }
 },
 "nbformat": 4,
 "nbformat_minor": 4
}
