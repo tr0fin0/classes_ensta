{
 "cells": [
  {
   "cell_type": "code",
   "execution_count": 1,
   "id": "cd4b3374",
   "metadata": {},
   "outputs": [],
   "source": [
    "import pandas as pd\n",
    "import matplotlib.pyplot as plt\n",
    "from mpl_toolkits.mplot3d import Axes3D"
   ]
  },
  {
   "attachments": {},
   "cell_type": "markdown",
   "id": "f8fc5082",
   "metadata": {},
   "source": [
    "after using the `simulation.sh` with the following configuration for the ARM Cortex A7:\n",
    "```bash\n",
    "#!/bin/sh\n",
    "## pour cortex A07\n",
    "M=( 1 2 4 8 16 32 64 )  # taille de matrice\n",
    "N=( 1 2 4 8 16 32 64 )  # nombre de thread = nombre de cpu\n",
    "\n",
    "rm RES_Q5.log\n",
    "for m in ${M[@]}\n",
    "do\n",
    "    for n in ${N[@]}\n",
    "    do\n",
    "        if ((n<=m))\n",
    "        then\n",
    "            path/gem5-stable/build/ARM/gem5.fast \n",
    "            path/gem5-stable/configs/example/se.py -n $n \n",
    "            -c path/test_omp \n",
    "            -o \"$n $m\" \n",
    "            --cpu-type=arm_detailed --caches --l2cache \n",
    "            --num-l2caches=1 --cacheline_size=32 \n",
    "            --l1d_size=\"32kB\" --l1d_assoc=2 \n",
    "            --l1i_size=\"32kB\" --l1i_assoc=2 \n",
    "            --l2_size=\"512kB\" --l2_assoc=8\n",
    "            numCycle=$(sed -n 's/system\\.cpu0*\\.numCycles\\s\\+\\([0-9]\\+\\).*/\\1/p' m5out/stats.txt)\n",
    "            simInsts=$(sed -n 's/sim_insts\\s\\+\\([0-9]\\+\\).*/\\1/p' m5out/stats.txt)\n",
    "            echo \"$m,$n,_,$numCycle,$simInsts\" >> RES_Q5.log\n",
    "        fi\n",
    "    done\n",
    "done\n",
    "```\n",
    "where `path = /home/g/gac/ES201/tools/TP5` and can change with your charge travail dirigée.\n",
    "\n",
    "during simulation the matrix size of 128 does not return results so it was removed."
   ]
  },
  {
   "attachments": {},
   "cell_type": "markdown",
   "id": "663ccf54",
   "metadata": {},
   "source": [
    "### Question 5\n",
    "Pour chaque configuration, quel est le nombre de cycles d’exécution de l’application ? Vous pourrez présenter vos résultats sous forme de graphe 2 axes."
   ]
  },
  {
   "cell_type": "code",
   "execution_count": 2,
   "id": "ab608f61",
   "metadata": {},
   "outputs": [],
   "source": [
    "df = pd.read_csv('Q5.csv',names=['M','N','N_CYCLES','N_INSTS']).fillna(0)\n",
    "dfs = dict(tuple(df.groupby('M')))\n",
    "\n",
    "df_null = df.loc[df['N_CYCLES'] == 0]\n",
    "df_nonNull = df.loc[df['N_CYCLES'] != 0]"
   ]
  },
  {
   "cell_type": "code",
   "execution_count": null,
   "id": "ab58713d",
   "metadata": {},
   "outputs": [],
   "source": [
    "def plotData(df, xLabel:str, yLabel:str, size:int, style: str = 'bar'):\n",
    "    plt.figure()\n",
    "    plot = df.plot(x=xLabel, y=yLabel, kind=style, title=f'matrix of {size}', rot=0, figsize=(5,5))\n",
    "    plt.show()\n",
    "\n",
    "    fig = plot.get_figure()\n",
    "    fig.savefig(f'./images/{yLabel}_{size}.png')\n",
    "\n",
    "\n",
    "def dfsPlot(dfs, dataLabels:list):\n",
    "    for data in dataLabels:\n",
    "        for size in dfs.keys():\n",
    "            plotData(dfs[size], 'N', data, size)\n",
    "\n",
    "\n",
    "dfsPlot(dfs, ['N_CYCLES'])"
   ]
  },
  {
   "attachments": {},
   "cell_type": "markdown",
   "id": "1e326229",
   "metadata": {},
   "source": [
    "### Question 6\n",
    "Déduire le speedup par rapport à la configuration à 1 thread."
   ]
  },
  {
   "attachments": {},
   "cell_type": "markdown",
   "id": "cd38a9a2",
   "metadata": {},
   "source": [
    "### Question 7\n",
    "En utilisant le nombre total d’instructions simulées, déterminez quelle est la valeur maximale de l’IPC pour chaque configuration ?"
   ]
  },
  {
   "cell_type": "code",
   "execution_count": null,
   "id": "578f2eab",
   "metadata": {},
   "outputs": [],
   "source": [
    "x = pd.DataFrame([x for i, x in df.iterrows() if x['N'] == 1])\n",
    "speed_up = list()\n",
    "ipc = list()\n",
    "\n",
    "for i, v in df.iterrows():\n",
    "    if (v['N_CYCLES'] == 0):\n",
    "        ipc.append(0)\n",
    "    else:\n",
    "        ipc.append(v['N_INSTS'] / v['N_CYCLES'])\n",
    "    for j, k in x.iterrows():\n",
    "        if (v['M'] == k['M']):\n",
    "            if(v['N_CYCLES']==0):\n",
    "                speed_up.append(0)\n",
    "            else:\n",
    "                speed_up.append(k['N_CYCLES']/v['N_CYCLES'])\n",
    "\n",
    "df['SPEED_UP'] = speed_up\n",
    "df['IPC'] = ipc\n",
    "\n",
    "\n",
    "dfsPlot(dict(tuple(df.groupby('M'))), ['SPEED_UP', 'IPC'])"
   ]
  }
 ],
 "metadata": {
  "kernelspec": {
   "display_name": "Python 3 (ipykernel)",
   "language": "python",
   "name": "python3"
  },
  "language_info": {
   "codemirror_mode": {
    "name": "ipython",
    "version": 3
   },
   "file_extension": ".py",
   "mimetype": "text/x-python",
   "name": "python",
   "nbconvert_exporter": "python",
   "pygments_lexer": "ipython3",
   "version": "3.10.6"
  }
 },
 "nbformat": 4,
 "nbformat_minor": 5
}
