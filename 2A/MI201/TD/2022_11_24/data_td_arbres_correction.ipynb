{
  "nbformat": 4,
  "nbformat_minor": 0,
  "metadata": {
    "colab": {
      "name": "td_arbres_correction.ipynb",
      "provenance": [],
      "collapsed_sections": []
    },
    "kernelspec": {
      "name": "python3",
      "display_name": "Python 3"
    }
  },
  "cells": [
    {
      "cell_type": "markdown",
      "metadata": {
        "id": "ksmC-Zwx0_tS"
      },
      "source": [
        "# TD: prédiction du vote 2016 aux Etats-Unis par arbres de décisions et méthodes ensemblistes\n",
        "\n",
        "La séance d'aujourd'hui porte sur la prévision du vote en 2016 aux États-Unis. Précisément, les données d'un recensement sont fournies avec diverses informations par comté à travers les États-Unis. L'objectif est de construire des prédicteurs de leur couleur politique (républicain ou démocrate) à partir de ces données."
      ]
    },
    {
      "cell_type": "markdown",
      "metadata": {
        "id": "kbPqcu_Lhfjp"
      },
      "source": [
        "Exécuter les commandes suivantes pour charger l'environnement."
      ]
    },
    {
      "cell_type": "code",
      "metadata": {
        "id": "X-foHxal1Ops"
      },
      "source": [
        "%matplotlib inline\n",
        "from pylab import *\n",
        "import numpy as np\n",
        "import os\n",
        "import random\n",
        "import matplotlib.pyplot as plt"
      ],
      "execution_count": 1,
      "outputs": []
    },
    {
      "cell_type": "markdown",
      "metadata": {
        "id": "W6D1aUcuQ9ff"
      },
      "source": [
        "# Accès aux données\n",
        "\n",
        "* Elles sont disponibles sur eCampus.\n",
        "* Charger le fichier the combined_data.csv sur votre drive puis monter le depuis colab.\n"
      ]
    },
    {
      "cell_type": "code",
      "metadata": {
        "id": "HnKt3tylQ8Qp",
        "colab": {
          "base_uri": "https://localhost:8080/"
        },
        "outputId": "be061c4b-260c-41ba-9898-679f03c0e500"
      },
      "source": [
        "USE_COLAB = True\n",
        "UPLOAD_OUTPUTS = False\n",
        "if USE_COLAB:\n",
        "    # mount the google drive\n",
        "    from google.colab import drive\n",
        "    drive.mount('/content/drive', force_remount=True)\n",
        "    # download data on GoogleDrive\n",
        "    data_dir = \"/content/drive/My Drive/teaching/IOGS/\"\n",
        "    sys.path.append(data_dir)\n",
        "else:\n",
        "    data_dir = \"data/\"\n",
        "\n"
      ],
      "execution_count": 2,
      "outputs": [
        {
          "output_type": "stream",
          "name": "stdout",
          "text": [
            "Mounted at /content/drive\n"
          ]
        }
      ]
    },
    {
      "cell_type": "code",
      "metadata": {
        "id": "ISKHiOpYuiWR"
      },
      "source": [
        "import pandas as pd\n",
        "\n",
        "census_data = pd.read_csv( os.path.join(data_dir, 'combined_data.csv') )"
      ],
      "execution_count": 3,
      "outputs": []
    },
    {
      "cell_type": "markdown",
      "metadata": {
        "id": "v3QJtATomOgi"
      },
      "source": [
        "# Analyse préliminaire des données\n",
        "\n",
        "Les données sont organisées en champs:\n",
        "* fips = code du comté à 5 chiffres, le premier ou les deux premiers chiffres indiquent l'état.\n",
        "* votes = nombre de votants\n",
        "* etc..\n",
        "\n",
        "Regarder leur structure, quantité, nature.\n",
        "\n",
        "Où se trouvent les informations pour former les ensembles d'apprentissage et de test?\n",
        "\n",
        "Où se trouvent les classes à prédire?\n",
        "\n",
        "Visualiser quelques distributions.\n",
        "\n",
        "Le format de données python est décrit ici:\n",
        "https://pandas.pydata.org/pandas-docs/stable/reference/frame.html\n"
      ]
    },
    {
      "cell_type": "code",
      "metadata": {
        "id": "yAk8Da4lvlQq",
        "colab": {
          "base_uri": "https://localhost:8080/"
        },
        "outputId": "3bba8cea-36a6-4ecf-9129-5d45da0820db"
      },
      "source": [
        "# Exemples de moyens d'accéder aux caractéristiques des données\n",
        "print(census_data.shape )\n",
        "print(census_data.columns.values) \n",
        "print(census_data['fips'])\n",
        "print(census_data.head(3))\n",
        "\n",
        "iattr = 10\n",
        "attrname = census_data.columns[iattr]\n",
        "print(\"Mean of {} is {:.1f}\".format(attrname,np.array(census_data[attrname]).mean()))\n",
        "\n",
        "#########################\n",
        "## METTRE VOTRE CODE ICI\n",
        "#########################\n",
        "print(\"Nombre de données = {}\".format(census_data.shape[0]))\n",
        "print(\"Nombre d'attributs utiles = {}\".format(census_data.shape[1]-2))\n",
        "\n"
      ],
      "execution_count": 4,
      "outputs": [
        {
          "output_type": "stream",
          "name": "stdout",
          "text": [
            "(3145, 78)\n",
            "['fips' 'votes'\n",
            " 'Percent of adults with less than a high school diploma, 2011-2015'\n",
            " 'Percent of adults with a high school diploma only, 2011-2015'\n",
            " \"Percent of adults completing some college or associate's degree, 2011-2015\"\n",
            " \"Percent of adults with a bachelor's degree or higher, 2011-2015\"\n",
            " 'Unemployment_rate_2015' 'POP_ESTIMATE_2015' 'Amish' 'Buddhist'\n",
            " 'Catholic' 'Christian Generic' 'Eastern Orthodox' 'Hindu' 'Jewish'\n",
            " 'Mainline Christian' 'Mormon' 'Muslim' 'Non-Catholic Christian' 'Other'\n",
            " 'Other Christian' 'Other Misc' 'Pentecostal / Charismatic'\n",
            " 'Protestant Denomination' 'Zoroastrian' 'MedHHInc2014' 'PerCapitaInc'\n",
            " 'PovertyUnder18Pct2014' 'PovertyAllAgesPct2014' 'Deep_Pov_All'\n",
            " 'Deep_Pov_Children' 'Population' 'Housing units'\n",
            " 'Area in square miles - Total area' 'Area in square miles - Water area'\n",
            " 'Area in square miles - Land area'\n",
            " 'Density per square mile of land area - Population'\n",
            " 'Density per square mile of land area - Housing units' 'age_total_pop'\n",
            " '0-4_rate' '5-9_rate' '10-14_rate' '15-19_rate' '20-24_rate' '25-29_rate'\n",
            " '30-34_rate' '35-39_rate' '40-44_rate' '45-49_rate' '50-54_rate'\n",
            " '55-59_rate' '60-64_rate' '65-69_rate' '70-74_rate' '75-79_rate'\n",
            " '80-84_rate' '85+_rate' 'TOT_MALE_rate' 'TOT_FEMALE_rate'\n",
            " 'WHITE_MALE_rate' 'WHITE_FEMALE_rate' 'BLACK_MALE_rate'\n",
            " 'BLACK_FEMALE_rate' 'NATIVE_AMERICAN_MALE_rate'\n",
            " 'NATIVE_AMERICAN_FEMALE_rate' 'ASIAN_MALE_rate' 'ASIAN_FEMALE_rate'\n",
            " 'HAWAIIAN_PACIFIC_MALE_rate' 'HAWAIIAN_PACIFIC_FEMALE_rate'\n",
            " 'MULTI_MALE_rate' 'MULTI_FEMALE_rate' 'WHITE_rate' 'BLACK_rate'\n",
            " 'NATIVE_AMERICAN_rate' 'HAWAIIAN_PACIFIC_rate' 'MULTI_rate'\n",
            " 'voter_turnout_rate' 'Democrat']\n",
            "0        2013\n",
            "1        2016\n",
            "2        2020\n",
            "3        2050\n",
            "4        2060\n",
            "        ...  \n",
            "3140    56037\n",
            "3141    56039\n",
            "3142    56041\n",
            "3143    56043\n",
            "3144    56045\n",
            "Name: fips, Length: 3145, dtype: int64\n",
            "   fips  votes  ...  voter_turnout_rate  Democrat\n",
            "0  2013   7471  ...            2.236157         0\n",
            "1  2016   7471  ...            1.310242         0\n",
            "2  2020   7471  ...            0.025012         0\n",
            "\n",
            "[3 rows x 78 columns]\n",
            "Mean of Catholic is 247.9\n",
            "Nombre de données = 3145\n",
            "Nombre d'attributs utiles = 76\n"
          ]
        }
      ]
    },
    {
      "cell_type": "code",
      "metadata": {
        "id": "uNOqXB37v2_H",
        "colab": {
          "base_uri": "https://localhost:8080/",
          "height": 746
        },
        "outputId": "0aae3e91-1913-48ce-99af-e69f8a06b2dd"
      },
      "source": [
        "\n",
        "iattr = 10\n",
        "attrname0 = census_data.columns[iattr]\n",
        "feat1 = census_data[attrname0]\n",
        "print(\"Attribut0 est {}\".format(attrname0))\n",
        "\n",
        "iattr = 14\n",
        "attrname1 = census_data.columns[iattr]\n",
        "feat2 = census_data[attrname1]\n",
        "print(\"Attribut1 est {}\".format(attrname1))\n",
        "\n",
        "data = vstack((feat1, feat2)).transpose()\n",
        "y_train = census_data['Democrat'].values\n",
        "\n",
        "# Pour visualiser  les données\n",
        "def show_data_2D(X,Y):\n",
        "    np.unique(Y)\n",
        "    fig, ax = plt.subplots(figsize=(8, 6))\n",
        "    for id in np.unique(Y):\n",
        "        idpositive=np.nonzero(Y == id)[0]\n",
        "        ax.scatter(X[idpositive,0], X[idpositive,1], s=50)\n",
        "\n",
        "print\n",
        "show_data_2D(data, y_train)\n",
        "plt.show()\n",
        "\n",
        "data = vstack((feat1, feat2)).transpose()\n",
        "y_train = census_data['Democrat'].values\n",
        "print(data.shape)\n",
        "print(y_train)\n",
        "\n",
        "import matplotlib.pyplot as plt\n",
        "\n",
        "X0 = data[y_train == 0,:]\n",
        "X1 = data[y_train == 1,:]\n",
        "\n",
        "#hist....\n",
        "plt.hist([X0, X1], color=['b','g'], alpha=0.5, bins=20, label=['Rep','Dem'], density=True)\n",
        "plt.legend(loc='upper right')\n",
        "plt.show()\n",
        "\n",
        "\n"
      ],
      "execution_count": 5,
      "outputs": [
        {
          "output_type": "stream",
          "name": "stdout",
          "text": [
            "Attribut0 est Catholic\n",
            "Attribut1 est Jewish\n"
          ]
        },
        {
          "output_type": "display_data",
          "data": {
            "image/png": "[encoded data removed]",
            "text/plain": [
              "<Figure size 576x432 with 1 Axes>"
            ]
          },
          "metadata": {
            "needs_background": "light"
          }
        },
        {
          "output_type": "stream",
          "name": "stdout",
          "text": [
            "(3145, 2)\n",
            "[0 0 0 ... 0 0 0]\n"
          ]
        },
        {
          "output_type": "stream",
          "name": "stderr",
          "text": [
            "/usr/local/lib/python3.7/dist-packages/numpy/core/_asarray.py:83: VisibleDeprecationWarning: Creating an ndarray from ragged nested sequences (which is a list-or-tuple of lists-or-tuples-or ndarrays with different lengths or shapes) is deprecated. If you meant to do this, you must specify 'dtype=object' when creating the ndarray\n",
            "  return array(a, dtype, copy=False, order=order)\n"
          ]
        },
        {
          "output_type": "display_data",
          "data": {
            "image/png": "[encoded data removed]",
            "text/plain": [
              "<Figure size 432x288 with 1 Axes>"
            ]
          },
          "metadata": {
            "needs_background": "light"
          }
        }
      ]
    },
    {
      "cell_type": "markdown",
      "metadata": {
        "id": "cFcoVcNqDL-P"
      },
      "source": [
        "La classe à prédire ('Democrat') n'est décrite que par un seul attribut binaire.\n",
        "Calculer la répartition des couleurs politiques (quel est a priori la probabilité qu'un comté soit démocrate vs. républicain)"
      ]
    },
    {
      "cell_type": "code",
      "metadata": {
        "id": "vks9-75MrFQT",
        "colab": {
          "base_uri": "https://localhost:8080/"
        },
        "outputId": "6bb8bd24-b873-43e5-8d0e-2caeb03e6705"
      },
      "source": [
        "#########################\n",
        "## METTRE VOTRE CODE ICI\n",
        "#########################\n",
        "results = np.array( census_data['Democrat'] )\n",
        "\n",
        "proba_dem = results.mean()\n",
        "proba_rep = 1 - proba_dem\n",
        "\n",
        "print(\"La probabilité qu'un comté soit démocrate est de {:.2f}%\".format(100*proba_dem))\n"
      ],
      "execution_count": 6,
      "outputs": [
        {
          "output_type": "stream",
          "name": "stdout",
          "text": [
            "La probabilité qu'un comté soit démocrate est de 15.45%\n"
          ]
        }
      ]
    },
    {
      "cell_type": "markdown",
      "metadata": {
        "id": "7zrNDQFDc4uB"
      },
      "source": [
        "# Préparation du chantier d'apprentissage\n",
        "\n",
        "On va préparer les ensembles d'apprentissage et de test. \n",
        "\n",
        "Pour éviter des problèmes de format de données, on choisit une liste d'attributs utiles dans la liste \"feature_cols\" ci dessous.\n",
        "\n",
        "L'ensemble de test sera constitué des comtés d'un seul état.\n",
        "\n",
        "Info: https://scikit-learn.org/stable/model_selection.html\n",
        "\n",
        "Liste des états et leurs codes FIPS code (2 digits):\n",
        "https://en.wikipedia.org/wiki/Federal_Information_Processing_Standard_state_code\n",
        "\n"
      ]
    },
    {
      "cell_type": "code",
      "metadata": {
        "id": "SOrtFFPHT_Pi"
      },
      "source": [
        "## Sous ensembles d'attributs informatifs pour la suite\n",
        "\n",
        "feature_cols = ['BLACK_FEMALE_rate', \n",
        "                'BLACK_MALE_rate',\n",
        "                'Percent of adults with a bachelor\\'s degree or higher, 2011-2015',\n",
        "                'ASIAN_MALE_rate',\n",
        "                'ASIAN_FEMALE_rate',\n",
        "                '25-29_rate',\n",
        "                'age_total_pop',\n",
        "                '20-24_rate',\n",
        "                'Deep_Pov_All',\n",
        "                '30-34_rate',\n",
        "                'Density per square mile of land area - Population',\n",
        "                'Density per square mile of land area - Housing units',\n",
        "                'Unemployment_rate_2015',\n",
        "                'Deep_Pov_Children',\n",
        "                'PovertyAllAgesPct2014',\n",
        "                'TOT_FEMALE_rate',\n",
        "                'PerCapitaInc',\n",
        "                'MULTI_FEMALE_rate',\n",
        "                '35-39_rate',\n",
        "                'MULTI_MALE_rate',\n",
        "                'Percent of adults completing some college or associate\\'s degree, 2011-2015',\n",
        "                '60-64_rate',\n",
        "                '55-59_rate',\n",
        "                '65-69_rate',\n",
        "                'TOT_MALE_rate',\n",
        "                '85+_rate',\n",
        "                '70-74_rate',\n",
        "                '80-84_rate',\n",
        "                '75-79_rate',\n",
        "                'Percent of adults with a high school diploma only, 2011-2015',\n",
        "                'WHITE_FEMALE_rate',\n",
        "                'WHITE_MALE_rate',\n",
        "                'Amish',\n",
        "                'Buddhist',\n",
        "                'Catholic',\n",
        "                'Christian Generic',\n",
        "                'Eastern Orthodox',\n",
        "                'Hindu',\n",
        "                'Jewish',\n",
        "                'Mainline Christian',\n",
        "                'Mormon',\n",
        "                'Muslim',\n",
        "                'Non-Catholic Christian',\n",
        "                'Other',\n",
        "                'Other Christian',\n",
        "                'Other Misc',\n",
        "                'Pentecostal / Charismatic',\n",
        "                'Protestant Denomination',\n",
        "                'Zoroastrian']"
      ],
      "execution_count": 7,
      "outputs": []
    },
    {
      "cell_type": "code",
      "metadata": {
        "id": "C1UqAsUQg1_a",
        "colab": {
          "base_uri": "https://localhost:8080/"
        },
        "outputId": "1e1ab3bc-b7da-41d3-e546-f1535872a11f"
      },
      "source": [
        "## 1-state test split\n",
        "\n",
        "def county_data(census_data, fips_code=17):\n",
        "  #fips_code 48=Texas, 34=New Jersey, 31=Nebraska, 17=Illinois, 06=California, 36=New York\n",
        "  mask = census_data['fips'].between(fips_code*1000, fips_code*1000 + 999)\n",
        "  census_data_train = census_data[~mask]\n",
        "  census_data_test = census_data[mask]\n",
        "\n",
        "\n",
        "  XTrain = census_data_train[feature_cols]\n",
        "  yTrain = census_data_train['Democrat']\n",
        "  XTest = census_data_test[feature_cols]\n",
        "  yTest = census_data_test['Democrat']\n",
        "\n",
        "  return XTrain, yTrain, XTest, yTest\n",
        "\n",
        "STATE_FIPS_CODE = 36\n",
        "X_train, y_train, X_test, y_test = county_data(census_data, STATE_FIPS_CODE)\n",
        "\n",
        "print(X_train.head(2))\n",
        "print(y_test.head(2))"
      ],
      "execution_count": 8,
      "outputs": [
        {
          "output_type": "stream",
          "name": "stdout",
          "text": [
            "   BLACK_FEMALE_rate  BLACK_MALE_rate  ...  Protestant Denomination  Zoroastrian\n",
            "0           0.067586         0.062079  ...                        0            0\n",
            "1           0.067586         0.062079  ...                        0            0\n",
            "\n",
            "[2 rows x 49 columns]\n",
            "1831    1\n",
            "1832    0\n",
            "Name: Democrat, dtype: int64\n"
          ]
        }
      ]
    },
    {
      "cell_type": "markdown",
      "metadata": {
        "id": "TaLx1whAl2oS"
      },
      "source": [
        "\n",
        "# Apprentissage d'un arbre de décision\n",
        "\n",
        "On utilisera la bibliothèque scikit learn \n",
        "\n",
        "* Construire l'arbre sur les données d'entrainement\n",
        "* Prédire le vote sur les comtés de test\n",
        "* Calculer l'erreur et la matrice de confusion\n",
        "\n",
        "Faire varier certains paramètres (profondeur max, pureté, critère...) et visualisez leur influence.\n",
        "\n",
        "\n",
        "Info: https://scikit-learn.org/stable/modules/tree.html\n",
        "\n",
        "Info: https://scikit-learn.org/stable/modules/model_evaluation.html\n"
      ]
    },
    {
      "cell_type": "code",
      "metadata": {
        "id": "iY-WE9EQenH8",
        "colab": {
          "base_uri": "https://localhost:8080/"
        },
        "outputId": "d66b8db4-2b65-4b80-a1b6-e946deff49b0"
      },
      "source": [
        "\n",
        "from sklearn import tree\n",
        "\n",
        "#########################\n",
        "## METTRE VOTRE CODE ICI\n",
        "#########################\n",
        "\n",
        "clf = tree.DecisionTreeClassifier(criterion=\"entropy\",max_depth=2,min_samples_split=50, splitter=\"best\")\n",
        "clf = clf.fit( X_train, y_train )\n",
        "\n",
        "print(clf)"
      ],
      "execution_count": 9,
      "outputs": [
        {
          "output_type": "stream",
          "name": "stdout",
          "text": [
            "DecisionTreeClassifier(criterion='entropy', max_depth=2, min_samples_split=50)\n"
          ]
        }
      ]
    },
    {
      "cell_type": "markdown",
      "metadata": {
        "id": "UqWBzMtwc2K8"
      },
      "source": [
        "Les instructions suivantes permettent de visualiser l'arbre.\n",
        "Interpréter le contenu de la représentation."
      ]
    },
    {
      "cell_type": "code",
      "metadata": {
        "id": "aaqZalJ6mOya",
        "colab": {
          "base_uri": "https://localhost:8080/",
          "height": 440
        },
        "outputId": "2852ff10-6681-46fa-cdbf-fc487f04287c"
      },
      "source": [
        "import graphviz\n",
        "\n",
        "dot_data = tree.export_graphviz(clf, out_file=None) \n",
        "graph = graphviz.Source(dot_data) \n",
        "\n",
        "dot_data = tree.export_graphviz(clf, out_file=None, \n",
        "                     feature_names=X_train.columns.values,  \n",
        "                     class_names=[\"R\",\"D\"],  \n",
        "                     filled=True, rounded=True,  \n",
        "                     special_characters=True)  \n",
        "graph = graphviz.Source(dot_data)  \n",
        "graph\n"
      ],
      "execution_count": 10,
      "outputs": [
        {
          "output_type": "execute_result",
          "data": {
            "text/plain": [
              "<graphviz.files.Source at 0x7fc01dad9550>"
            ],
            "image/svg+xml": "<?xml version=\"1.0\" encoding=\"UTF-8\" standalone=\"no\"?>\n<!DOCTYPE svg PUBLIC \"-//W3C//DTD SVG 1.1//EN\"\n \"http://www.w3.org/Graphics/SVG/1.1/DTD/svg11.dtd\">\n<!-- Generated by graphviz version 2.40.1 (20161225.0304)\n -->\n<!-- Title: Tree Pages: 1 -->\n<svg width=\"586pt\" height=\"314pt\"\n viewBox=\"0.00 0.00 586.00 314.00\" xmlns=\"http://www.w3.org/2000/svg\" xmlns:xlink=\"http://www.w3.org/1999/xlink\">\n<g id=\"graph0\" class=\"graph\" transform=\"scale(1 1) rotate(0) translate(4 310)\">\n<title>Tree</title>\n<polygon fill=\"#ffffff\" stroke=\"transparent\" points=\"-4,4 -4,-310 582,-310 582,4 -4,4\"/>\n<!-- 0 -->\n<g id=\"node1\" class=\"node\">\n<title>0</title>\n<path fill=\"#ea985d\" stroke=\"#000000\" d=\"M354,-306C354,-306 238,-306 238,-306 232,-306 226,-300 226,-294 226,-294 226,-235 226,-235 226,-229 232,-223 238,-223 238,-223 354,-223 354,-223 360,-223 366,-229 366,-235 366,-235 366,-294 366,-294 366,-300 360,-306 354,-306\"/>\n<text text-anchor=\"start\" x=\"255.5\" y=\"-290.8\" font-family=\"Helvetica,sans-Serif\" font-size=\"14.00\" fill=\"#000000\">Jewish ≤ 1.5</text>\n<text text-anchor=\"start\" x=\"245\" y=\"-275.8\" font-family=\"Helvetica,sans-Serif\" font-size=\"14.00\" fill=\"#000000\">entropy = 0.616</text>\n<text text-anchor=\"start\" x=\"244\" y=\"-260.8\" font-family=\"Helvetica,sans-Serif\" font-size=\"14.00\" fill=\"#000000\">samples = 3083</text>\n<text text-anchor=\"start\" x=\"234\" y=\"-245.8\" font-family=\"Helvetica,sans-Serif\" font-size=\"14.00\" fill=\"#000000\">value = [2613, 470]</text>\n<text text-anchor=\"start\" x=\"265.5\" y=\"-230.8\" font-family=\"Helvetica,sans-Serif\" font-size=\"14.00\" fill=\"#000000\">class = R</text>\n</g>\n<!-- 1 -->\n<g id=\"node2\" class=\"node\">\n<title>1</title>\n<path fill=\"#e88f4f\" stroke=\"#000000\" d=\"M292,-187C292,-187 110,-187 110,-187 104,-187 98,-181 98,-175 98,-175 98,-116 98,-116 98,-110 104,-104 110,-104 110,-104 292,-104 292,-104 298,-104 304,-110 304,-116 304,-116 304,-175 304,-175 304,-181 298,-187 292,-187\"/>\n<text text-anchor=\"start\" x=\"106\" y=\"-171.8\" font-family=\"Helvetica,sans-Serif\" font-size=\"14.00\" fill=\"#000000\">WHITE_FEMALE_rate ≤ 0.27</text>\n<text text-anchor=\"start\" x=\"150\" y=\"-156.8\" font-family=\"Helvetica,sans-Serif\" font-size=\"14.00\" fill=\"#000000\">entropy = 0.468</text>\n<text text-anchor=\"start\" x=\"149\" y=\"-141.8\" font-family=\"Helvetica,sans-Serif\" font-size=\"14.00\" fill=\"#000000\">samples = 2815</text>\n<text text-anchor=\"start\" x=\"139\" y=\"-126.8\" font-family=\"Helvetica,sans-Serif\" font-size=\"14.00\" fill=\"#000000\">value = [2534, 281]</text>\n<text text-anchor=\"start\" x=\"170.5\" y=\"-111.8\" font-family=\"Helvetica,sans-Serif\" font-size=\"14.00\" fill=\"#000000\">class = R</text>\n</g>\n<!-- 0&#45;&gt;1 -->\n<g id=\"edge1\" class=\"edge\">\n<title>0&#45;&gt;1</title>\n<path fill=\"none\" stroke=\"#000000\" d=\"M262.7736,-222.8796C255.6556,-213.9633 248.0661,-204.4565 240.7308,-195.268\"/>\n<polygon fill=\"#000000\" stroke=\"#000000\" points=\"243.3425,-192.9295 234.3682,-187.2981 237.8719,-197.2968 243.3425,-192.9295\"/>\n<text text-anchor=\"middle\" x=\"231.5819\" y=\"-208.4423\" font-family=\"Helvetica,sans-Serif\" font-size=\"14.00\" fill=\"#000000\">True</text>\n</g>\n<!-- 4 -->\n<g id=\"node5\" class=\"node\">\n<title>4</title>\n<path fill=\"#8cc6f0\" stroke=\"#000000\" d=\"M449.5,-187C449.5,-187 334.5,-187 334.5,-187 328.5,-187 322.5,-181 322.5,-175 322.5,-175 322.5,-116 322.5,-116 322.5,-110 328.5,-104 334.5,-104 334.5,-104 449.5,-104 449.5,-104 455.5,-104 461.5,-110 461.5,-116 461.5,-116 461.5,-175 461.5,-175 461.5,-181 455.5,-187 449.5,-187\"/>\n<text text-anchor=\"start\" x=\"330.5\" y=\"-171.8\" font-family=\"Helvetica,sans-Serif\" font-size=\"14.00\" fill=\"#000000\">70&#45;74_rate ≤ 0.035</text>\n<text text-anchor=\"start\" x=\"341\" y=\"-156.8\" font-family=\"Helvetica,sans-Serif\" font-size=\"14.00\" fill=\"#000000\">entropy = 0.875</text>\n<text text-anchor=\"start\" x=\"344\" y=\"-141.8\" font-family=\"Helvetica,sans-Serif\" font-size=\"14.00\" fill=\"#000000\">samples = 268</text>\n<text text-anchor=\"start\" x=\"338\" y=\"-126.8\" font-family=\"Helvetica,sans-Serif\" font-size=\"14.00\" fill=\"#000000\">value = [79, 189]</text>\n<text text-anchor=\"start\" x=\"361.5\" y=\"-111.8\" font-family=\"Helvetica,sans-Serif\" font-size=\"14.00\" fill=\"#000000\">class = D</text>\n</g>\n<!-- 0&#45;&gt;4 -->\n<g id=\"edge4\" class=\"edge\">\n<title>0&#45;&gt;4</title>\n<path fill=\"none\" stroke=\"#000000\" d=\"M329.5761,-222.8796C336.7691,-213.9633 344.4384,-204.4565 351.851,-195.268\"/>\n<polygon fill=\"#000000\" stroke=\"#000000\" points=\"354.7258,-197.2788 358.2805,-187.2981 349.2776,-192.8836 354.7258,-197.2788\"/>\n<text text-anchor=\"middle\" x=\"360.9398\" y=\"-208.4562\" font-family=\"Helvetica,sans-Serif\" font-size=\"14.00\" fill=\"#000000\">False</text>\n</g>\n<!-- 2 -->\n<g id=\"node3\" class=\"node\">\n<title>2</title>\n<path fill=\"#79bded\" stroke=\"#000000\" d=\"M112,-68C112,-68 12,-68 12,-68 6,-68 0,-62 0,-56 0,-56 0,-12 0,-12 0,-6 6,0 12,0 12,0 112,0 112,0 118,0 124,-6 124,-12 124,-12 124,-56 124,-56 124,-62 118,-68 112,-68\"/>\n<text text-anchor=\"start\" x=\"11\" y=\"-52.8\" font-family=\"Helvetica,sans-Serif\" font-size=\"14.00\" fill=\"#000000\">entropy = 0.804</text>\n<text text-anchor=\"start\" x=\"14\" y=\"-37.8\" font-family=\"Helvetica,sans-Serif\" font-size=\"14.00\" fill=\"#000000\">samples = 159</text>\n<text text-anchor=\"start\" x=\"8\" y=\"-22.8\" font-family=\"Helvetica,sans-Serif\" font-size=\"14.00\" fill=\"#000000\">value = [39, 120]</text>\n<text text-anchor=\"start\" x=\"31.5\" y=\"-7.8\" font-family=\"Helvetica,sans-Serif\" font-size=\"14.00\" fill=\"#000000\">class = D</text>\n</g>\n<!-- 1&#45;&gt;2 -->\n<g id=\"edge2\" class=\"edge\">\n<title>1&#45;&gt;2</title>\n<path fill=\"none\" stroke=\"#000000\" d=\"M149.2415,-103.9815C137.3258,-94.4232 124.6644,-84.2668 112.7903,-74.7419\"/>\n<polygon fill=\"#000000\" stroke=\"#000000\" points=\"114.7049,-71.7907 104.7144,-68.2637 110.3248,-77.2511 114.7049,-71.7907\"/>\n</g>\n<!-- 3 -->\n<g id=\"node4\" class=\"node\">\n<title>3</title>\n<path fill=\"#e78946\" stroke=\"#000000\" d=\"M270,-68C270,-68 154,-68 154,-68 148,-68 142,-62 142,-56 142,-56 142,-12 142,-12 142,-6 148,0 154,0 154,0 270,0 270,0 276,0 282,-6 282,-12 282,-12 282,-56 282,-56 282,-62 276,-68 270,-68\"/>\n<text text-anchor=\"start\" x=\"165\" y=\"-52.8\" font-family=\"Helvetica,sans-Serif\" font-size=\"14.00\" fill=\"#000000\">entropy = 0.33</text>\n<text text-anchor=\"start\" x=\"160\" y=\"-37.8\" font-family=\"Helvetica,sans-Serif\" font-size=\"14.00\" fill=\"#000000\">samples = 2656</text>\n<text text-anchor=\"start\" x=\"150\" y=\"-22.8\" font-family=\"Helvetica,sans-Serif\" font-size=\"14.00\" fill=\"#000000\">value = [2495, 161]</text>\n<text text-anchor=\"start\" x=\"181.5\" y=\"-7.8\" font-family=\"Helvetica,sans-Serif\" font-size=\"14.00\" fill=\"#000000\">class = R</text>\n</g>\n<!-- 1&#45;&gt;3 -->\n<g id=\"edge3\" class=\"edge\">\n<title>1&#45;&gt;3</title>\n<path fill=\"none\" stroke=\"#000000\" d=\"M205.096,-103.9815C205.9211,-95.618 206.7914,-86.7965 207.6256,-78.3409\"/>\n<polygon fill=\"#000000\" stroke=\"#000000\" points=\"211.1209,-78.559 208.6197,-68.2637 204.1548,-77.8717 211.1209,-78.559\"/>\n</g>\n<!-- 5 -->\n<g id=\"node6\" class=\"node\">\n<title>5</title>\n<path fill=\"#50a8e8\" stroke=\"#000000\" d=\"M432,-68C432,-68 332,-68 332,-68 326,-68 320,-62 320,-56 320,-56 320,-12 320,-12 320,-6 326,0 332,0 332,0 432,0 432,0 438,0 444,-6 444,-12 444,-12 444,-56 444,-56 444,-62 438,-68 432,-68\"/>\n<text text-anchor=\"start\" x=\"331\" y=\"-52.8\" font-family=\"Helvetica,sans-Serif\" font-size=\"14.00\" fill=\"#000000\">entropy = 0.476</text>\n<text text-anchor=\"start\" x=\"334\" y=\"-37.8\" font-family=\"Helvetica,sans-Serif\" font-size=\"14.00\" fill=\"#000000\">samples = 137</text>\n<text text-anchor=\"start\" x=\"328\" y=\"-22.8\" font-family=\"Helvetica,sans-Serif\" font-size=\"14.00\" fill=\"#000000\">value = [14, 123]</text>\n<text text-anchor=\"start\" x=\"351.5\" y=\"-7.8\" font-family=\"Helvetica,sans-Serif\" font-size=\"14.00\" fill=\"#000000\">class = D</text>\n</g>\n<!-- 4&#45;&gt;5 -->\n<g id=\"edge5\" class=\"edge\">\n<title>4&#45;&gt;5</title>\n<path fill=\"none\" stroke=\"#000000\" d=\"M388.2764,-103.9815C387.5263,-95.618 386.7351,-86.7965 385.9768,-78.3409\"/>\n<polygon fill=\"#000000\" stroke=\"#000000\" points=\"389.4523,-77.911 385.073,-68.2637 382.4803,-78.5364 389.4523,-77.911\"/>\n</g>\n<!-- 6 -->\n<g id=\"node7\" class=\"node\">\n<title>6</title>\n<path fill=\"#fcfeff\" stroke=\"#000000\" d=\"M566,-68C566,-68 474,-68 474,-68 468,-68 462,-62 462,-56 462,-56 462,-12 462,-12 462,-6 468,0 474,0 474,0 566,0 566,0 572,0 578,-6 578,-12 578,-12 578,-56 578,-56 578,-62 572,-68 566,-68\"/>\n<text text-anchor=\"start\" x=\"477.5\" y=\"-52.8\" font-family=\"Helvetica,sans-Serif\" font-size=\"14.00\" fill=\"#000000\">entropy = 1.0</text>\n<text text-anchor=\"start\" x=\"472\" y=\"-37.8\" font-family=\"Helvetica,sans-Serif\" font-size=\"14.00\" fill=\"#000000\">samples = 131</text>\n<text text-anchor=\"start\" x=\"470\" y=\"-22.8\" font-family=\"Helvetica,sans-Serif\" font-size=\"14.00\" fill=\"#000000\">value = [65, 66]</text>\n<text text-anchor=\"start\" x=\"489.5\" y=\"-7.8\" font-family=\"Helvetica,sans-Serif\" font-size=\"14.00\" fill=\"#000000\">class = D</text>\n</g>\n<!-- 4&#45;&gt;6 -->\n<g id=\"edge6\" class=\"edge\">\n<title>4&#45;&gt;6</title>\n<path fill=\"none\" stroke=\"#000000\" d=\"M439.6625,-103.9815C450.5297,-94.5151 462.0705,-84.462 472.9135,-75.0168\"/>\n<polygon fill=\"#000000\" stroke=\"#000000\" points=\"475.4245,-77.4712 480.6659,-68.2637 470.8266,-72.1929 475.4245,-77.4712\"/>\n</g>\n</g>\n</svg>\n"
          },
          "metadata": {},
          "execution_count": 10
        }
      ]
    },
    {
      "cell_type": "code",
      "metadata": {
        "id": "2p0aaQkMm1pV",
        "colab": {
          "base_uri": "https://localhost:8080/"
        },
        "outputId": "d9642222-dda2-46c2-b3e8-7a2bfb63eb42"
      },
      "source": [
        "# Prédiction et évaluation\n",
        "\n",
        "#########################\n",
        "## METTRE VOTRE CODE ICI\n",
        "#########################\n",
        "\n",
        "preds = clf.predict(X_test)\n",
        "print('Predictions per county in state #'+ str(STATE_FIPS_CODE) + ' are ' + str(preds ) )\n",
        "print('Votes per county in state #'+ str(STATE_FIPS_CODE) + ' are ' + str(list(y_test) ) )\n",
        "\n",
        "import sklearn.metrics as perf\n",
        "\n",
        "oa = perf.accuracy_score(y_test, preds)\n",
        "bas = perf.balanced_accuracy_score(y_test, preds)\n",
        "print(oa,bas)\n",
        "cm = perf.confusion_matrix(y_test, preds)\n",
        "print(cm)"
      ],
      "execution_count": 11,
      "outputs": [
        {
          "output_type": "stream",
          "name": "stdout",
          "text": [
            "Predictions per county in state #36 are [1 0 1 1 0 0 0 0 0 1 0 0 1 1 1 0 0 1 0 1 0 0 0 1 0 0 0 1 0 1 1 0 1 1 0 1 0\n",
            " 0 1 1 1 1 1 1 0 1 1 0 0 0 0 1 1 0 1 1 1 0 0 1 0 0]\n",
            "Votes per county in state #36 are [1, 0, 1, 0, 0, 0, 0, 0, 0, 1, 1, 0, 0, 0, 1, 0, 0, 0, 0, 0, 0, 0, 0, 1, 0, 0, 0, 1, 0, 1, 1, 0, 0, 1, 0, 0, 0, 0, 0, 0, 1, 0, 0, 1, 0, 0, 1, 0, 0, 0, 0, 0, 0, 0, 1, 1, 0, 0, 0, 1, 0, 0]\n",
            "0.7419354838709677 0.8057065217391304\n",
            "[[31 15]\n",
            " [ 1 15]]\n"
          ]
        }
      ]
    },
    {
      "cell_type": "markdown",
      "metadata": {
        "id": "nx-UmaBEtrFN"
      },
      "source": [
        "\n",
        "---\n",
        "\n",
        "# Bagging\n",
        "\n",
        "L'objectif de cette partie est de construire **à la main** une approche de bagging.\n",
        "\n",
        "Le principe de l'approche est de:\n",
        "\n",
        "* Apprendre et collecter plusieurs arbres sur des échantillonnages aléatoires des données d'apprentissage\n",
        "* Agréger les prédictions par vote \n",
        "* Evaluer: Les prédictions agrégées\n",
        "* Comparer avec les arbres individuels et le résultat précédent\n",
        "\n",
        "\n",
        "Utiliser les fonctions de construction d'ensemble d'apprentissage/test de scikit-learn https://scikit-learn.org/stable/modules/generated/sklearn.model_selection.train_test_split.html pour générer les sous-esnembles échantillonnés.\n",
        "\n",
        "**Comparer après le cours** les fonctions de scikit-learn: https://scikit-learn.org/stable/modules/ensemble.html\n",
        "\n",
        "Numpy tips: [np.arange](https://docs.scipy.org/doc/numpy-1.15.0/reference/generated/numpy.arange.html), [numpy.sum](https://docs.scipy.org/doc/numpy-1.15.0/reference/generated/numpy.sum.html), [numpy.mean](https://docs.scipy.org/doc/numpy-1.15.1/reference/generated/numpy.mean.html), [numpy.where](https://docs.scipy.org/doc/numpy-1.15.0/reference/generated/numpy.where.html)"
      ]
    },
    {
      "cell_type": "code",
      "metadata": {
        "id": "S0Haw1inuPMs"
      },
      "source": [
        "from sklearn.model_selection import train_test_split\n",
        "\n",
        "# Données d'apprentissage: X_train, y_train, idx_train\n",
        "# Données de test: X_test, y_test, idx_test\n",
        "# Les étapes de conception du prédicteur (apprentissage) sont les suivantes:\n",
        "#   - Construction des sous-ensembles de données\n",
        "#   - Apprentissage d'un arbre\n",
        "#   - Agrégation de l'arbre dans la forêt\n",
        "#\n",
        "# Pour le test\n",
        "\n",
        "\n",
        "def learn_forest(XTrain, yTrain, nb_trees, depth=15):\n",
        "\n",
        "#########################\n",
        "## METTRE VOTRE CODE ICI\n",
        "#########################\n",
        "\n",
        "  forest = []\n",
        "  singleperf=[]\n",
        "\n",
        "  for ss in range(nb_trees):\n",
        "    # bagging for subset\n",
        "    X_train_sub, X_test_sub, y_train_sub, y_test_sub = train_test_split(\n",
        "        XTrain, yTrain, test_size=0.2 )\n",
        "\n",
        "    # single tree training\n",
        "    clf = tree.DecisionTreeClassifier(max_depth=depth, splitter=\"random\")\n",
        "    clf = clf.fit( X_train_sub, y_train_sub )\n",
        "    \n",
        "    # grow the forest\n",
        "    forest.append( clf )\n",
        "  \n",
        "    # single tree evaluation\n",
        "    curr_train_pred=clf.predict(X_train_sub)\n",
        "    curr_test_pred=clf.predict(X_test_sub)\n",
        "    singleperf.append([perf.balanced_accuracy_score( y_train_sub, curr_train_pred ), perf.balanced_accuracy_score( y_test_sub,curr_test_pred)])\n",
        "  \n",
        "  return forest,singleperf\n",
        "\n"
      ],
      "execution_count": 12,
      "outputs": []
    },
    {
      "cell_type": "code",
      "metadata": {
        "id": "qyT6zrLRvl-x"
      },
      "source": [
        "def predict_forest(forest, XTest, yTest = None):\n",
        "  \n",
        "#########################\n",
        "## METTRE VOTRE CODE ICI\n",
        "#########################\n",
        "  singleperf=[]\n",
        "  all_preds=[]\n",
        "  nb_trees = len(forest)\n",
        "  for ss in forest:# nb_trees\n",
        "    test_pred=ss.predict(XTest)\n",
        "    all_preds.append(test_pred)\n",
        "\n",
        "    if (yTest is not None):\n",
        "      singleperf.append(perf.balanced_accuracy_score( yTest, test_pred ))\n",
        "\n",
        "  all_preds=np.array(all_preds)\n",
        "  #print(all_preds)\n",
        "\n",
        "  # Vote\n",
        "  gloup = np.sum(all_preds, axis=0)\n",
        "  final_pred = np.where(gloup > nb_trees/2, 1, 0)\n",
        "\n",
        "  if (yTest is not None):\n",
        "    return final_pred,singleperf\n",
        "  else:\n",
        "    return final_pred\n"
      ],
      "execution_count": 13,
      "outputs": []
    },
    {
      "cell_type": "code",
      "metadata": {
        "id": "Bs8kgN1XvnGa",
        "colab": {
          "base_uri": "https://localhost:8080/"
        },
        "outputId": "8f898eab-bbf9-44a7-d58b-1223cae3bdb2"
      },
      "source": [
        "#########################\n",
        "## METTRE VOTRE CODE ICI\n",
        "#########################\n",
        "\n",
        "\n",
        "X_train, y_train, X_test, y_test = county_data(census_data, 6)\n",
        "\n",
        "F,singleperf = learn_forest(X_train, y_train, 20, depth=15)\n",
        "pred, singleperftest = predict_forest(F, X_test, y_test)\n",
        "acc = perf.balanced_accuracy_score( y_test, pred )\n",
        "print(\"Taux de bonne prédiction final = {:.2f}%\".format(100*acc))\n",
        "print(\"Moyenne des bonnes prédictions individuelles = {:.2f}%\".format(100*mean(singleperftest)))\n",
        "#print(singleperftest)\n",
        "#print(singleperf)"
      ],
      "execution_count": 14,
      "outputs": [
        {
          "output_type": "stream",
          "name": "stdout",
          "text": [
            "Taux de bonne prédiction final = 75.12%\n",
            "Moyenne des bonnes prédictions individuelles = 68.82%\n"
          ]
        }
      ]
    }
  ]
}